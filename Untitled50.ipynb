{
  "nbformat": 4,
  "nbformat_minor": 0,
  "metadata": {
    "colab": {
      "provenance": []
    },
    "kernelspec": {
      "name": "python3",
      "display_name": "Python 3"
    },
    "language_info": {
      "name": "python"
    }
  },
  "cells": [
    {
      "cell_type": "code",
      "execution_count": 1,
      "metadata": {
        "colab": {
          "base_uri": "https://localhost:8080/",
          "height": 91
        },
        "id": "wbiEQ9Bl_cEW",
        "outputId": "dd2f3929-52d3-4c22-baf6-6cb0d7ebb744"
      },
      "outputs": [
        {
          "output_type": "display_data",
          "data": {
            "text/plain": [
              "<IPython.core.display.HTML object>"
            ],
            "text/html": [
              "\n",
              "     <input type=\"file\" id=\"files-45ee6571-c7cd-48ec-a1de-b0804354d148\" name=\"files[]\" multiple disabled\n",
              "        style=\"border:none\" />\n",
              "     <output id=\"result-45ee6571-c7cd-48ec-a1de-b0804354d148\">\n",
              "      Upload widget is only available when the cell has been executed in the\n",
              "      current browser session. Please rerun this cell to enable.\n",
              "      </output>\n",
              "      <script>// Copyright 2017 Google LLC\n",
              "//\n",
              "// Licensed under the Apache License, Version 2.0 (the \"License\");\n",
              "// you may not use this file except in compliance with the License.\n",
              "// You may obtain a copy of the License at\n",
              "//\n",
              "//      http://www.apache.org/licenses/LICENSE-2.0\n",
              "//\n",
              "// Unless required by applicable law or agreed to in writing, software\n",
              "// distributed under the License is distributed on an \"AS IS\" BASIS,\n",
              "// WITHOUT WARRANTIES OR CONDITIONS OF ANY KIND, either express or implied.\n",
              "// See the License for the specific language governing permissions and\n",
              "// limitations under the License.\n",
              "\n",
              "/**\n",
              " * @fileoverview Helpers for google.colab Python module.\n",
              " */\n",
              "(function(scope) {\n",
              "function span(text, styleAttributes = {}) {\n",
              "  const element = document.createElement('span');\n",
              "  element.textContent = text;\n",
              "  for (const key of Object.keys(styleAttributes)) {\n",
              "    element.style[key] = styleAttributes[key];\n",
              "  }\n",
              "  return element;\n",
              "}\n",
              "\n",
              "// Max number of bytes which will be uploaded at a time.\n",
              "const MAX_PAYLOAD_SIZE = 100 * 1024;\n",
              "\n",
              "function _uploadFiles(inputId, outputId) {\n",
              "  const steps = uploadFilesStep(inputId, outputId);\n",
              "  const outputElement = document.getElementById(outputId);\n",
              "  // Cache steps on the outputElement to make it available for the next call\n",
              "  // to uploadFilesContinue from Python.\n",
              "  outputElement.steps = steps;\n",
              "\n",
              "  return _uploadFilesContinue(outputId);\n",
              "}\n",
              "\n",
              "// This is roughly an async generator (not supported in the browser yet),\n",
              "// where there are multiple asynchronous steps and the Python side is going\n",
              "// to poll for completion of each step.\n",
              "// This uses a Promise to block the python side on completion of each step,\n",
              "// then passes the result of the previous step as the input to the next step.\n",
              "function _uploadFilesContinue(outputId) {\n",
              "  const outputElement = document.getElementById(outputId);\n",
              "  const steps = outputElement.steps;\n",
              "\n",
              "  const next = steps.next(outputElement.lastPromiseValue);\n",
              "  return Promise.resolve(next.value.promise).then((value) => {\n",
              "    // Cache the last promise value to make it available to the next\n",
              "    // step of the generator.\n",
              "    outputElement.lastPromiseValue = value;\n",
              "    return next.value.response;\n",
              "  });\n",
              "}\n",
              "\n",
              "/**\n",
              " * Generator function which is called between each async step of the upload\n",
              " * process.\n",
              " * @param {string} inputId Element ID of the input file picker element.\n",
              " * @param {string} outputId Element ID of the output display.\n",
              " * @return {!Iterable<!Object>} Iterable of next steps.\n",
              " */\n",
              "function* uploadFilesStep(inputId, outputId) {\n",
              "  const inputElement = document.getElementById(inputId);\n",
              "  inputElement.disabled = false;\n",
              "\n",
              "  const outputElement = document.getElementById(outputId);\n",
              "  outputElement.innerHTML = '';\n",
              "\n",
              "  const pickedPromise = new Promise((resolve) => {\n",
              "    inputElement.addEventListener('change', (e) => {\n",
              "      resolve(e.target.files);\n",
              "    });\n",
              "  });\n",
              "\n",
              "  const cancel = document.createElement('button');\n",
              "  inputElement.parentElement.appendChild(cancel);\n",
              "  cancel.textContent = 'Cancel upload';\n",
              "  const cancelPromise = new Promise((resolve) => {\n",
              "    cancel.onclick = () => {\n",
              "      resolve(null);\n",
              "    };\n",
              "  });\n",
              "\n",
              "  // Wait for the user to pick the files.\n",
              "  const files = yield {\n",
              "    promise: Promise.race([pickedPromise, cancelPromise]),\n",
              "    response: {\n",
              "      action: 'starting',\n",
              "    }\n",
              "  };\n",
              "\n",
              "  cancel.remove();\n",
              "\n",
              "  // Disable the input element since further picks are not allowed.\n",
              "  inputElement.disabled = true;\n",
              "\n",
              "  if (!files) {\n",
              "    return {\n",
              "      response: {\n",
              "        action: 'complete',\n",
              "      }\n",
              "    };\n",
              "  }\n",
              "\n",
              "  for (const file of files) {\n",
              "    const li = document.createElement('li');\n",
              "    li.append(span(file.name, {fontWeight: 'bold'}));\n",
              "    li.append(span(\n",
              "        `(${file.type || 'n/a'}) - ${file.size} bytes, ` +\n",
              "        `last modified: ${\n",
              "            file.lastModifiedDate ? file.lastModifiedDate.toLocaleDateString() :\n",
              "                                    'n/a'} - `));\n",
              "    const percent = span('0% done');\n",
              "    li.appendChild(percent);\n",
              "\n",
              "    outputElement.appendChild(li);\n",
              "\n",
              "    const fileDataPromise = new Promise((resolve) => {\n",
              "      const reader = new FileReader();\n",
              "      reader.onload = (e) => {\n",
              "        resolve(e.target.result);\n",
              "      };\n",
              "      reader.readAsArrayBuffer(file);\n",
              "    });\n",
              "    // Wait for the data to be ready.\n",
              "    let fileData = yield {\n",
              "      promise: fileDataPromise,\n",
              "      response: {\n",
              "        action: 'continue',\n",
              "      }\n",
              "    };\n",
              "\n",
              "    // Use a chunked sending to avoid message size limits. See b/62115660.\n",
              "    let position = 0;\n",
              "    do {\n",
              "      const length = Math.min(fileData.byteLength - position, MAX_PAYLOAD_SIZE);\n",
              "      const chunk = new Uint8Array(fileData, position, length);\n",
              "      position += length;\n",
              "\n",
              "      const base64 = btoa(String.fromCharCode.apply(null, chunk));\n",
              "      yield {\n",
              "        response: {\n",
              "          action: 'append',\n",
              "          file: file.name,\n",
              "          data: base64,\n",
              "        },\n",
              "      };\n",
              "\n",
              "      let percentDone = fileData.byteLength === 0 ?\n",
              "          100 :\n",
              "          Math.round((position / fileData.byteLength) * 100);\n",
              "      percent.textContent = `${percentDone}% done`;\n",
              "\n",
              "    } while (position < fileData.byteLength);\n",
              "  }\n",
              "\n",
              "  // All done.\n",
              "  yield {\n",
              "    response: {\n",
              "      action: 'complete',\n",
              "    }\n",
              "  };\n",
              "}\n",
              "\n",
              "scope.google = scope.google || {};\n",
              "scope.google.colab = scope.google.colab || {};\n",
              "scope.google.colab._files = {\n",
              "  _uploadFiles,\n",
              "  _uploadFilesContinue,\n",
              "};\n",
              "})(self);\n",
              "</script> "
            ]
          },
          "metadata": {}
        },
        {
          "output_type": "stream",
          "name": "stdout",
          "text": [
            "Saving kaggle (1).json to kaggle (1).json\n"
          ]
        },
        {
          "output_type": "execute_result",
          "data": {
            "text/plain": [
              "{'kaggle (1).json': b'{\"username\":\"simranjitkhehra\",\"key\":\"590396775635a92a4068419d5faf6ea5\"}'}"
            ]
          },
          "metadata": {},
          "execution_count": 1
        }
      ],
      "source": [
        "from google.colab import files\n",
        "files.upload()  # Upload your kaggle.json file here"
      ]
    },
    {
      "cell_type": "code",
      "source": [
        "import os\n",
        "\n",
        "# Make the .kaggle directory\n",
        "os.makedirs('/root/.kaggle', exist_ok=True)\n",
        "\n",
        "# Use the correct filename (with space and parentheses)\n",
        "!cp \"kaggle (1).json\" /root/.kaggle/kaggle.json\n",
        "os.chmod('/root/.kaggle/kaggle.json', 600)"
      ],
      "metadata": {
        "id": "90UbJ3pO_jsK"
      },
      "execution_count": 2,
      "outputs": []
    },
    {
      "cell_type": "code",
      "source": [
        "!pip install -q kaggle"
      ],
      "metadata": {
        "id": "SNjg3_3FA81A"
      },
      "execution_count": 3,
      "outputs": []
    },
    {
      "cell_type": "code",
      "source": [
        "!kaggle datasets list -s walmart\n"
      ],
      "metadata": {
        "colab": {
          "base_uri": "https://localhost:8080/"
        },
        "id": "hP_vusl4Cbf0",
        "outputId": "611ababa-5554-46b5-e68c-612d2ececc27"
      },
      "execution_count": 4,
      "outputs": [
        {
          "output_type": "stream",
          "name": "stdout",
          "text": [
            "ref                                                          title                                       size  lastUpdated                 downloadCount  voteCount  usabilityRating  \n",
            "-----------------------------------------------------------  ------------------------------------  ----------  --------------------------  -------------  ---------  ---------------  \n",
            "mikhail1681/walmart-sales                                    Walmart Sales                             125107  2024-06-06 07:36:51.367000          52151        461  1.0              \n",
            "yasserh/walmart-dataset                                      Walmart Dataset                           125095  2021-12-26 07:16:20.267000          53716        292  1.0              \n",
            "aslanahmedov/walmart-sales-forecast                          Walmart Sales Forecast                   3524213  2022-04-21 05:28:20.817000          44331        290  1.0              \n",
            "ankitrajmishra/walmart                                       walmart                                   241726  2024-12-31 19:22:45.837000           2527         30  1.0              \n",
            "rutuspatel/walmart-dataset-retail                            Walmart Dataset (Retail)                  125119  2021-10-27 07:03:41.010000          12441         99  0.8235294        \n",
            "ujjwalchowdhury/walmartcleaned                               Walmart Cleaned Data                     4534513  2022-05-12 05:11:15.457000           7123         58  1.0              \n",
            "asahu40/walmart-data-analysis-and-forcasting                 Walmart Data Analysis and Forcasting      125153  2023-04-26 07:07:03.483000           8267        103  1.0              \n",
            "devarajv88/walmart-sales-dataset                             e-Commerce (Walmart) Sales Dataset       5036619  2024-05-30 12:09:55.327000          10965         95  1.0              \n",
            "michaelhakim/walmart-sales-analysis                          Walmart sales analysis                    959682  2025-06-18 14:29:58.397000           2613         42  0.9411765        \n",
            "thedevastator/product-prices-and-sizes-from-walmart-grocery  Walmart Products                        29551187  2022-11-28 13:13:07.417000           3662         49  1.0              \n",
            "varsharam/walmart-sales-dataset-of-45stores                  Walmart Sales Dataset of 45stores         125147  2022-09-17 15:10:09.413000          14498        104  0.8235294        \n",
            "umerhaddii/walmart-stock-data-2024                           Walmart Stock Data 2024                   311649  2024-10-15 07:25:18.223000           1089         65  1.0              \n",
            "meharshanali/walmart-stocks-data-2025                        Walmart Stocks Data 2025                  467062  2025-02-23 12:19:53.717000           1682         35  1.0              \n",
            "abdmoiz/walmart-stock-data-2025                              Walmart Stock Data 2025                   178869  2025-03-26 00:47:09.017000           1678         33  1.0              \n",
            "divyajeetthakur/walmart-sales-prediction                     Walmart Sales Prediction                 3524213  2021-01-23 11:57:39.243000           5975         39  0.5882353        \n",
            "bletchley/course-material-walmart-challenge                  Course Material: Walmart Challenge      14241333  2018-02-02 13:04:46.557000           4683         51  0.7058824        \n",
            "middlehigh/walmart-stocks-from-2000                          Walmart Stocks from 2000                  131465  2024-04-27 15:36:12.963000            671         48  1.0              \n",
            "saurabhbadole/walmart-super-market-dataset                   Walmart - Super Market Dataset           3797737  2024-03-28 19:31:48.580000           2672        112  1.0              \n",
            "antaesterlin/walmart-commerce-data                           Walmart commerce data                      42208  2024-02-20 23:48:17.767000           3369         42  0.9411765        \n",
            "souravprakashai/walmart-condensed-sales-data                 Walmart Condensed Sales Data             2750335  2023-07-12 08:52:58.423000           3156         42  0.9411765        \n"
          ]
        }
      ]
    },
    {
      "cell_type": "code",
      "source": [
        "!kaggle datasets download -d thedevastator/product-prices-and-sizes-from-walmart-grocery\n"
      ],
      "metadata": {
        "colab": {
          "base_uri": "https://localhost:8080/"
        },
        "id": "1__9H_wYBH2p",
        "outputId": "cdef0ca2-1e09-4f81-ed10-c80892f2fd89"
      },
      "execution_count": 5,
      "outputs": [
        {
          "output_type": "stream",
          "name": "stdout",
          "text": [
            "Dataset URL: https://www.kaggle.com/datasets/thedevastator/product-prices-and-sizes-from-walmart-grocery\n",
            "License(s): other\n",
            "Downloading product-prices-and-sizes-from-walmart-grocery.zip to /content\n",
            "  0% 0.00/28.2M [00:00<?, ?B/s]\n",
            "100% 28.2M/28.2M [00:00<00:00, 575MB/s]\n"
          ]
        }
      ]
    },
    {
      "cell_type": "code",
      "source": [
        "!kaggle datasets download -d validmodel/grocery-store-dataset"
      ],
      "metadata": {
        "colab": {
          "base_uri": "https://localhost:8080/"
        },
        "id": "sq7QsFQUEQty",
        "outputId": "c4d38f56-e086-418e-8966-17b46a7b966a"
      },
      "execution_count": 6,
      "outputs": [
        {
          "output_type": "stream",
          "name": "stdout",
          "text": [
            "Dataset URL: https://www.kaggle.com/datasets/validmodel/grocery-store-dataset\n",
            "License(s): other\n",
            "Downloading grocery-store-dataset.zip to /content\n",
            " 60% 71.0M/118M [00:00<00:00, 742MB/s]\n",
            "100% 118M/118M [00:00<00:00, 630MB/s] \n"
          ]
        }
      ]
    },
    {
      "cell_type": "code",
      "source": [
        "import zipfile\n",
        "with zipfile.ZipFile('grocery-store-dataset.zip', 'r') as zip_ref:\n",
        "    zip_ref.extractall('grocery_images')"
      ],
      "metadata": {
        "id": "uPoeXAKaGQf0"
      },
      "execution_count": 7,
      "outputs": []
    },
    {
      "cell_type": "code",
      "source": [
        "import zipfile\n",
        "with zipfile.ZipFile('product-prices-and-sizes-from-walmart-grocery.zip', 'r') as zip_ref:\n",
        "    zip_ref.extractall('product-prices-and-sizes')"
      ],
      "metadata": {
        "id": "qe50T6F_GisA"
      },
      "execution_count": 8,
      "outputs": []
    },
    {
      "cell_type": "code",
      "source": [
        "import os\n",
        "\n",
        "image_classes = os.listdir('grocery_images/GroceryStoreDataset')\n",
        "print(\"Sample image classes:\", image_classes[:10])"
      ],
      "metadata": {
        "colab": {
          "base_uri": "https://localhost:8080/"
        },
        "id": "SkQVnQpNHXEl",
        "outputId": "e9bf7b75-ebbf-4f80-cf28-ce1db089e090"
      },
      "execution_count": 9,
      "outputs": [
        {
          "output_type": "stream",
          "name": "stdout",
          "text": [
            "Sample image classes: ['dataset', 'sample_images']\n"
          ]
        }
      ]
    },
    {
      "cell_type": "code",
      "source": [
        "import pandas as pd\n",
        "\n",
        "price_df = pd.read_csv('product-prices-and-sizes/WMT_Grocery_202209.csv')\n",
        "print(price_df.columns)\n",
        "print(price_df[['PRODUCT_NAME', 'PRICE_CURRENT']].head())"
      ],
      "metadata": {
        "colab": {
          "base_uri": "https://localhost:8080/"
        },
        "id": "4ZeFJ2rrHbQZ",
        "outputId": "392a911e-f9c3-4fc9-bd16-51d10fbcd689"
      },
      "execution_count": 10,
      "outputs": [
        {
          "output_type": "stream",
          "name": "stderr",
          "text": [
            "/tmp/ipython-input-10-3753409791.py:3: DtypeWarning: Columns (4) have mixed types. Specify dtype option on import or set low_memory=False.\n",
            "  price_df = pd.read_csv('product-prices-and-sizes/WMT_Grocery_202209.csv')\n"
          ]
        },
        {
          "output_type": "stream",
          "name": "stdout",
          "text": [
            "Index(['index', 'SHIPPING_LOCATION', 'DEPARTMENT', 'CATEGORY', 'SUBCATEGORY',\n",
            "       'BREADCRUMBS', 'SKU', 'PRODUCT_URL', 'PRODUCT_NAME', 'BRAND',\n",
            "       'PRICE_RETAIL', 'PRICE_CURRENT', 'PRODUCT_SIZE', 'PROMOTION', 'RunDate',\n",
            "       'tid'],\n",
            "      dtype='object')\n",
            "                                  PRODUCT_NAME  PRICE_CURRENT\n",
            "0  Marketside Roasted Red Pepper Hummus, 10 Oz           2.67\n",
            "1      Marketside Roasted Garlic Hummus, 10 Oz           2.67\n",
            "2             Marketside Classic Hummus, 10 Oz           2.67\n",
            "3          Marketside Everything Hummus, 10 oz           2.67\n",
            "4                 Price's Jalapeno Dip, 12 Oz.           3.12\n"
          ]
        }
      ]
    },
    {
      "cell_type": "code",
      "source": [
        "import os\n",
        "\n",
        "image_classes = os.listdir('grocery_images/GroceryStoreDataset/dataset')\n",
        "print(\"Sample image classes:\", image_classes[:10])"
      ],
      "metadata": {
        "colab": {
          "base_uri": "https://localhost:8080/"
        },
        "id": "XJYm9q3hQhIN",
        "outputId": "7e7083a6-a4aa-4f81-8c26-b04cf6b2f512"
      },
      "execution_count": 11,
      "outputs": [
        {
          "output_type": "stream",
          "name": "stdout",
          "text": [
            "Sample image classes: ['train.txt', 'train', 'classes.csv', 'iconic-images-and-descriptions', 'val.txt', 'test', 'test.txt', 'val']\n"
          ]
        }
      ]
    },
    {
      "cell_type": "code",
      "source": [
        "import os\n",
        "\n",
        "train_path = 'grocery_images/GroceryStoreDataset/dataset/train'\n",
        "product_classes = os.listdir(train_path)\n",
        "print(\"Sample product classes:\", product_classes[:10])"
      ],
      "metadata": {
        "colab": {
          "base_uri": "https://localhost:8080/"
        },
        "id": "j74i2TILQ6Op",
        "outputId": "0e47aee7-7531-4838-ccf1-821588ff257e"
      },
      "execution_count": 12,
      "outputs": [
        {
          "output_type": "stream",
          "name": "stdout",
          "text": [
            "Sample product classes: ['Packages', 'Fruit', 'Vegetables']\n"
          ]
        }
      ]
    },
    {
      "cell_type": "code",
      "source": [
        "sample_class = product_classes[0]\n",
        "sample_images = os.listdir(os.path.join(train_path, sample_class))\n",
        "print(f\"Sample images in {sample_class}:\", sample_images[:5])"
      ],
      "metadata": {
        "colab": {
          "base_uri": "https://localhost:8080/"
        },
        "id": "ZEhC48Z7RY9B",
        "outputId": "b75e52c9-e5d1-4492-85c4-6ab49ddbe215"
      },
      "execution_count": 13,
      "outputs": [
        {
          "output_type": "stream",
          "name": "stdout",
          "text": [
            "Sample images in Packages: ['Oat-Milk', 'Juice', 'Sour-Cream', 'Milk', 'Soy-Milk']\n"
          ]
        }
      ]
    },
    {
      "cell_type": "code",
      "source": [
        "import re\n",
        "\n",
        "def normalize_name(name):\n",
        "    name = str(name).lower()\n",
        "    name = re.sub(r'[^a-z0-9 ]', '', name)  # Remove punctuation\n",
        "    name = re.sub(r'\\b\\d+\\w*\\b', '', name)  # Remove numbers/units like 500ml, 1kg\n",
        "    name = re.sub(r'\\s+', ' ', name).strip()  # Remove extra spaces\n",
        "    return name\n",
        "\n",
        "norm_product_classes = [normalize_name(cls) for cls in product_classes]"
      ],
      "metadata": {
        "id": "ESThzIvGSiPF"
      },
      "execution_count": 14,
      "outputs": []
    },
    {
      "cell_type": "code",
      "source": [
        "price_df['norm_name'] = price_df['PRODUCT_NAME'].apply(normalize_name)"
      ],
      "metadata": {
        "id": "ONnDM5SFSnYB"
      },
      "execution_count": 15,
      "outputs": []
    },
    {
      "cell_type": "code",
      "source": [
        "!pip install rapidfuzz"
      ],
      "metadata": {
        "colab": {
          "base_uri": "https://localhost:8080/"
        },
        "id": "sK_mkCeBTm_0",
        "outputId": "13bdb5f0-ec42-41d4-951f-49c11e29d6be"
      },
      "execution_count": 16,
      "outputs": [
        {
          "output_type": "stream",
          "name": "stdout",
          "text": [
            "Collecting rapidfuzz\n",
            "  Downloading rapidfuzz-3.13.0-cp311-cp311-manylinux_2_17_x86_64.manylinux2014_x86_64.whl.metadata (12 kB)\n",
            "Downloading rapidfuzz-3.13.0-cp311-cp311-manylinux_2_17_x86_64.manylinux2014_x86_64.whl (3.1 MB)\n",
            "\u001b[?25l   \u001b[90m━━━━━━━━━━━━━━━━━━━━━━━━━━━━━━━━━━━━━━━━\u001b[0m \u001b[32m0.0/3.1 MB\u001b[0m \u001b[31m?\u001b[0m eta \u001b[36m-:--:--\u001b[0m\r\u001b[2K   \u001b[91m━━━━━━━━━━━━━━━━━━━━━━━━━━━━━━━━━━━━━━━\u001b[0m\u001b[91m╸\u001b[0m \u001b[32m3.1/3.1 MB\u001b[0m \u001b[31m110.4 MB/s\u001b[0m eta \u001b[36m0:00:01\u001b[0m\r\u001b[2K   \u001b[90m━━━━━━━━━━━━━━━━━━━━━━━━━━━━━━━━━━━━━━━━\u001b[0m \u001b[32m3.1/3.1 MB\u001b[0m \u001b[31m64.1 MB/s\u001b[0m eta \u001b[36m0:00:00\u001b[0m\n",
            "\u001b[?25hInstalling collected packages: rapidfuzz\n",
            "Successfully installed rapidfuzz-3.13.0\n"
          ]
        }
      ]
    },
    {
      "cell_type": "code",
      "source": [
        "import os\n",
        "\n",
        "for category in product_classes:\n",
        "    category_path = os.path.join(train_path, category)\n",
        "    if os.path.isdir(category_path):\n",
        "        subfolders = os.listdir(category_path)\n",
        "        print(f\"Subfolders in {category}:\", subfolders[:10])"
      ],
      "metadata": {
        "colab": {
          "base_uri": "https://localhost:8080/"
        },
        "id": "jkPOQktySwtW",
        "outputId": "0ca729e1-fe9a-49ea-b404-3459c3229c4b"
      },
      "execution_count": 17,
      "outputs": [
        {
          "output_type": "stream",
          "name": "stdout",
          "text": [
            "Subfolders in Packages: ['Oat-Milk', 'Juice', 'Sour-Cream', 'Milk', 'Soy-Milk', 'Soyghurt', 'Sour-Milk', 'Oatghurt', 'Yoghurt']\n",
            "Subfolders in Fruit: ['Apple', 'Avocado', 'Papaya', 'Lime', 'Red-Grapefruit', 'Mango', 'Kiwi', 'Pomegranate', 'Pear', 'Nectarine']\n",
            "Subfolders in Vegetables: ['Aubergine', 'Leek', 'Asparagus', 'Red-Beet', 'Ginger', 'Onion', 'Carrots', 'Pepper', 'Cucumber', 'Garlic']\n"
          ]
        }
      ]
    },
    {
      "cell_type": "code",
      "source": [
        "all_product_classes = []\n",
        "for category in product_classes:\n",
        "    category_path = os.path.join(train_path, category)\n",
        "    if os.path.isdir(category_path):\n",
        "        subfolders = os.listdir(category_path)\n",
        "        all_product_classes.extend(subfolders)\n",
        "\n",
        "print(\"Sample product classes:\", all_product_classes[:10])\n",
        "print(\"Total product classes:\", len(all_product_classes))"
      ],
      "metadata": {
        "colab": {
          "base_uri": "https://localhost:8080/"
        },
        "id": "ITIjIA5VVBs6",
        "outputId": "abc33440-92b3-4e33-b3a3-701d33802143"
      },
      "execution_count": 18,
      "outputs": [
        {
          "output_type": "stream",
          "name": "stdout",
          "text": [
            "Sample product classes: ['Oat-Milk', 'Juice', 'Sour-Cream', 'Milk', 'Soy-Milk', 'Soyghurt', 'Sour-Milk', 'Oatghurt', 'Yoghurt', 'Apple']\n",
            "Total product classes: 43\n"
          ]
        }
      ]
    },
    {
      "cell_type": "code",
      "source": [
        "norm_product_classes = [normalize_name(cls) for cls in all_product_classes]"
      ],
      "metadata": {
        "id": "b6FdohHBf5c-"
      },
      "execution_count": 19,
      "outputs": []
    },
    {
      "cell_type": "code",
      "source": [
        "print(price_df['norm_name'].head(20))"
      ],
      "metadata": {
        "colab": {
          "base_uri": "https://localhost:8080/"
        },
        "id": "vzfMPWnkf-0l",
        "outputId": "786cfa1f-2039-4575-e67d-521729b6955a"
      },
      "execution_count": 20,
      "outputs": [
        {
          "output_type": "stream",
          "name": "stdout",
          "text": [
            "0        marketside roasted red pepper hummus oz\n",
            "1            marketside roasted garlic hummus oz\n",
            "2                   marketside classic hummus oz\n",
            "3                marketside everything hummus oz\n",
            "4                         prices jalapeno dip oz\n",
            "5                      prices green chili dip oz\n",
            "6                  deans french onion dip oz tub\n",
            "7            marketside spinach artichoke dip oz\n",
            "8       fresh cravings roasted red pepper hummus\n",
            "9        marketside buffalo style chicken dip oz\n",
            "10                    marketside spicy hummus oz\n",
            "11                 marketside pine nut hummus oz\n",
            "12             marketside cantina style salsa oz\n",
            "13        fresh cravings everything bagel hummus\n",
            "14       fresh cravings roasted garlic hummus oz\n",
            "15          fresh cravings honey jalapeno hummus\n",
            "16                 fresh cravings classic hummus\n",
            "17        freshness guaranteed guacamole mild oz\n",
            "18    tabla fresca farmstand fresh mild salsa oz\n",
            "19        fresh cravings spicy red pepper hummus\n",
            "Name: norm_name, dtype: object\n"
          ]
        }
      ]
    },
    {
      "cell_type": "markdown",
      "source": [
        "Print the Best Match and Score for Debugging"
      ],
      "metadata": {
        "id": "NU57HJ8bg3T0"
      }
    },
    {
      "cell_type": "code",
      "source": [
        "mapping = {}\n",
        "\n",
        "for cls, norm_cls in zip(all_product_classes, norm_product_classes):\n",
        "    match, score, idx = process.extractOne(\n",
        "        norm_cls, price_df['norm_name'], scorer=fuzz.ratio\n",
        "    )\n",
        "    if score > 50:  # Lowered threshold\n",
        "        mapping[cls] = price_df.iloc[idx]\n",
        "    else:\n",
        "        mapping[cls] = None\n"
      ],
      "metadata": {
        "id": "Jv9NRX3wgO4W"
      },
      "execution_count": 27,
      "outputs": []
    },
    {
      "cell_type": "code",
      "source": [
        "!pip install fuzzywuzzy[speedup]\n"
      ],
      "metadata": {
        "colab": {
          "base_uri": "https://localhost:8080/"
        },
        "id": "d_09EWiyx0Rw",
        "outputId": "3ada3953-8ef7-4869-c37a-cf025680a19f"
      },
      "execution_count": 24,
      "outputs": [
        {
          "output_type": "stream",
          "name": "stdout",
          "text": [
            "Collecting fuzzywuzzy[speedup]\n",
            "  Downloading fuzzywuzzy-0.18.0-py2.py3-none-any.whl.metadata (4.9 kB)\n",
            "Collecting python-levenshtein>=0.12 (from fuzzywuzzy[speedup])\n",
            "  Downloading python_levenshtein-0.27.1-py3-none-any.whl.metadata (3.7 kB)\n",
            "Collecting Levenshtein==0.27.1 (from python-levenshtein>=0.12->fuzzywuzzy[speedup])\n",
            "  Downloading levenshtein-0.27.1-cp311-cp311-manylinux_2_17_x86_64.manylinux2014_x86_64.whl.metadata (3.6 kB)\n",
            "Requirement already satisfied: rapidfuzz<4.0.0,>=3.9.0 in /usr/local/lib/python3.11/dist-packages (from Levenshtein==0.27.1->python-levenshtein>=0.12->fuzzywuzzy[speedup]) (3.13.0)\n",
            "Downloading python_levenshtein-0.27.1-py3-none-any.whl (9.4 kB)\n",
            "Downloading levenshtein-0.27.1-cp311-cp311-manylinux_2_17_x86_64.manylinux2014_x86_64.whl (161 kB)\n",
            "\u001b[2K   \u001b[90m━━━━━━━━━━━━━━━━━━━━━━━━━━━━━━━━━━━━━━━━\u001b[0m \u001b[32m161.7/161.7 kB\u001b[0m \u001b[31m14.8 MB/s\u001b[0m eta \u001b[36m0:00:00\u001b[0m\n",
            "\u001b[?25hDownloading fuzzywuzzy-0.18.0-py2.py3-none-any.whl (18 kB)\n",
            "Installing collected packages: fuzzywuzzy, Levenshtein, python-levenshtein\n",
            "Successfully installed Levenshtein-0.27.1 fuzzywuzzy-0.18.0 python-levenshtein-0.27.1\n"
          ]
        }
      ]
    },
    {
      "cell_type": "code",
      "source": [
        "from fuzzywuzzy import process, fuzz  # <-- Add this line\n",
        "\n",
        "for cls, norm_cls in zip(all_product_classes[:10], norm_product_classes[:10]):\n",
        "    match, score, idx = process.extractOne(\n",
        "        norm_cls, price_df['norm_name'], scorer=fuzz.ratio\n",
        "    )\n",
        "    print(f\"{cls} (norm: {norm_cls}) --> {match} (score: {score})\")\n",
        "1"
      ],
      "metadata": {
        "colab": {
          "base_uri": "https://localhost:8080/"
        },
        "id": "afau-9FKgSjX",
        "outputId": "ee253690-55dc-4dfd-98eb-9cda6595a9e4"
      },
      "execution_count": 25,
      "outputs": [
        {
          "output_type": "stream",
          "name": "stdout",
          "text": [
            "Oat-Milk (norm: oatmilk) --> saco buttermilk (score: 55)\n",
            "Juice (norm: juice) --> cc orange juice (score: 50)\n",
            "Sour-Cream (norm: sourcream) --> hi coconut cream (score: 56)\n",
            "Milk (norm: milk) --> bdn milk hgal (score: 47)\n",
            "Soy-Milk (norm: soymilk) --> saco buttermilk (score: 55)\n",
            "Soyghurt (norm: soyghurt) --> noosa yoghurt mango cup (score: 45)\n",
            "Sour-Milk (norm: sourmilk) --> saco buttermilk (score: 70)\n",
            "Oatghurt (norm: oatghurt) --> toast brut (score: 56)\n",
            "Yoghurt (norm: yoghurt) --> noosa yoghurt mango cup (score: 47)\n",
            "Apple (norm: apple) --> pineapple (score: 71)\n"
          ]
        },
        {
          "output_type": "execute_result",
          "data": {
            "text/plain": [
              "1"
            ]
          },
          "metadata": {},
          "execution_count": 25
        }
      ]
    },
    {
      "cell_type": "markdown",
      "source": [
        "Use a Better Fuzzy Matching Metric"
      ],
      "metadata": {
        "id": "JeegkvCFgxyR"
      }
    },
    {
      "cell_type": "code",
      "source": [
        "from rapidfuzz import process, fuzz\n",
        "\n",
        "for cls, norm_cls in zip(all_product_classes[:10], norm_product_classes[:10]):\n",
        "    match, score, idx = process.extractOne(\n",
        "        norm_cls, price_df['norm_name'], scorer=fuzz.token_set_ratio\n",
        "    )\n",
        "    print(f\"{cls} (norm: {norm_cls}) --> {match} (score: {score})\")"
      ],
      "metadata": {
        "colab": {
          "base_uri": "https://localhost:8080/"
        },
        "id": "TKSLETy3gfOG",
        "outputId": "6e50e744-5bcb-49a3-b94f-277d0335f666"
      },
      "execution_count": 28,
      "outputs": [
        {
          "output_type": "stream",
          "name": "stdout",
          "text": [
            "Oat-Milk (norm: oatmilk) --> planet oat unsweetened vanilla oatmilk fl oz (score: 100.0)\n",
            "Juice (norm: juice) --> juice monster mango loco energy juice fl oz pack (score: 100.0)\n",
            "Sour-Cream (norm: sourcream) --> hi coconut cream (score: 56.0)\n",
            "Milk (norm: milk) --> russell stover sugar free milk chocolate pecan delights with stevia oz bag (score: 100.0)\n",
            "Soy-Milk (norm: soymilk) --> great value original soymilk gal (score: 100.0)\n",
            "Soyghurt (norm: soyghurt) --> noosa yoghurt vanilla yoghurt oz (score: 50.0)\n",
            "Sour-Milk (norm: sourmilk) --> saco buttermilk (score: 52.17391304347826)\n",
            "Oatghurt (norm: oatghurt) --> ot worm weight (score: 45.45454545454545)\n",
            "Yoghurt (norm: yoghurt) --> noosa yoghurt whole milk yogurt raspberry oz (score: 100.0)\n",
            "Apple (norm: apple) --> taylor farms apple walnut salad with chicken oz deli salad bowl (score: 100.0)\n"
          ]
        }
      ]
    },
    {
      "cell_type": "code",
      "source": [
        "mapping = {}\n",
        "for cls, norm_cls in zip(all_product_classes, norm_product_classes):\n",
        "    match, score, idx = process.extractOne(\n",
        "        norm_cls, price_df['norm_name'], scorer=fuzz.token_set_ratio\n",
        "    )\n",
        "    if score > 60:\n",
        "        mapping[cls] = price_df.iloc[idx]\n",
        "    else:\n",
        "        mapping[cls] = None"
      ],
      "metadata": {
        "id": "4-ZCxDBWg_qz"
      },
      "execution_count": 29,
      "outputs": []
    },
    {
      "cell_type": "code",
      "source": [
        "for cls, norm_cls in zip(all_product_classes, norm_product_classes):\n",
        "    match, score, idx = process.extractOne(\n",
        "        norm_cls, price_df['norm_name'], scorer=fuzz.token_set_ratio\n",
        "    )\n",
        "    print(f\"{cls} (norm: {norm_cls}) --> {match} (score: {score})\")"
      ],
      "metadata": {
        "colab": {
          "base_uri": "https://localhost:8080/"
        },
        "id": "lnr-RdmRhF0Z",
        "outputId": "1239c774-7d1b-484e-c1a2-b89fbd9066d5"
      },
      "execution_count": 30,
      "outputs": [
        {
          "output_type": "stream",
          "name": "stdout",
          "text": [
            "Oat-Milk (norm: oatmilk) --> planet oat unsweetened vanilla oatmilk fl oz (score: 100.0)\n",
            "Juice (norm: juice) --> juice monster mango loco energy juice fl oz pack (score: 100.0)\n",
            "Sour-Cream (norm: sourcream) --> hi coconut cream (score: 56.0)\n",
            "Milk (norm: milk) --> russell stover sugar free milk chocolate pecan delights with stevia oz bag (score: 100.0)\n",
            "Soy-Milk (norm: soymilk) --> great value original soymilk gal (score: 100.0)\n",
            "Soyghurt (norm: soyghurt) --> noosa yoghurt vanilla yoghurt oz (score: 50.0)\n",
            "Sour-Milk (norm: sourmilk) --> saco buttermilk (score: 52.17391304347826)\n",
            "Oatghurt (norm: oatghurt) --> ot worm weight (score: 45.45454545454545)\n",
            "Yoghurt (norm: yoghurt) --> noosa yoghurt whole milk yogurt raspberry oz (score: 100.0)\n",
            "Apple (norm: apple) --> taylor farms apple walnut salad with chicken oz deli salad bowl (score: 100.0)\n",
            "Avocado (norm: avocado) --> freshness guaranteed chunky avocado oz fresh (score: 100.0)\n",
            "Papaya (norm: papaya) --> lala licuado milk fruit oats smoothie bottle papaya pack (score: 100.0)\n",
            "Lime (norm: lime) --> herdez cilantro lime salsa cremosa oz (score: 100.0)\n",
            "Red-Grapefruit (norm: redgrapefruit) --> red grapefruit each (score: 68.75)\n",
            "Mango (norm: mango) --> marketside sweet heat mango peach salsa ounce (score: 100.0)\n",
            "Kiwi (norm: kiwi) --> v8 sparkling energy strawberry kiwi energy drink fl oz pack (score: 100.0)\n",
            "Pomegranate (norm: pomegranate) --> v8 energy pomegranate blueberry energy drink fl oz can pack of (score: 100.0)\n",
            "Pear (norm: pear) --> celsius essential energy drink fl oz sparkling fuji apple pear single can (score: 100.0)\n",
            "Nectarine (norm: nectarine) --> sparkling ice naturally flavored sparkling water peach nectarine fl oz (score: 100.0)\n",
            "Orange (norm: orange) --> v8 energy orange pineapple energy drink fl oz can pack of (score: 100.0)\n",
            "Satsumas (norm: satsumas) --> smarties smart mix (score: 53.84615384615385)\n",
            "Passion-Fruit (norm: passionfruit) --> aha sparkling water pineapple passionfruit flavored water zero calories sodium free no sweeteners fl oz pack (score: 100.0)\n",
            "Plum (norm: plum) --> family foods red li hing mui preserved plum fruit snack oz (score: 100.0)\n",
            "Pineapple (norm: pineapple) --> v8 energy orange pineapple energy drink fl oz can pack of (score: 100.0)\n",
            "Melon (norm: melon) --> mtn dew energy strawberry melon spark oz can (score: 100.0)\n",
            "Lemon (norm: lemon) --> aha sparkling water blackberry lemon flavored water zero calories sodium free no sweeteners fl oz pack (score: 100.0)\n",
            "Banana (norm: banana) --> belvita soft baked banana bread breakfast biscuits oz count (score: 100.0)\n",
            "Peach (norm: peach) --> marketside sweet heat mango peach salsa ounce (score: 100.0)\n",
            "Aubergine (norm: aubergine) --> caliber gin (score: 70.0)\n",
            "Leek (norm: leek) --> imagine organic potato leek creamy soup fl oz (score: 100.0)\n",
            "Asparagus (norm: asparagus) --> asparagus bunch (score: 100.0)\n",
            "Red-Beet (norm: redbeet) --> redneck rivera (score: 47.61904761904762)\n",
            "Ginger (norm: ginger) --> suja organic digestion shot with ginger probiotics fl oz (score: 100.0)\n",
            "Onion (norm: onion) --> deans french onion dip oz tub (score: 100.0)\n",
            "Carrots (norm: carrots) --> dippin stix baby carrots ranch dip oz (score: 100.0)\n",
            "Pepper (norm: pepper) --> marketside roasted red pepper hummus oz (score: 100.0)\n",
            "Cucumber (norm: cucumber) --> gatorade lime cucumber thirst quencher sports drink oz pack bottles (score: 100.0)\n",
            "Garlic (norm: garlic) --> marketside roasted garlic hummus oz (score: 100.0)\n",
            "Tomato (norm: tomato) --> marketside creamy tomato bisque oz fresh deli soup (score: 100.0)\n",
            "Cabbage (norm: cabbage) --> green cabbage head (score: 100.0)\n",
            "Brown-Cap-Mushroom (norm: browncapmushroom) --> whole brown mushrooms oz (score: 65.0)\n",
            "Potato (norm: potato) --> freshness guaranteed mustard potato salad oz (score: 100.0)\n",
            "Zucchini (norm: zucchini) --> farm rich garden inspirations zucchini sticks with marinara sauce frozen oz (score: 100.0)\n"
          ]
        }
      ]
    },
    {
      "cell_type": "code",
      "source": [
        "predicted_class = \"Apple\"  # Example from the model\n",
        "product_info = mapping.get(predicted_class)\n",
        "if product_info is not None:\n",
        "    print(f\"Product: {product_info['PRODUCT_NAME']}\")\n",
        "    print(f\"Price: ${product_info['PRICE_CURRENT']}\")\n",
        "else:\n",
        "    print(\"Price not found for this product.\")"
      ],
      "metadata": {
        "colab": {
          "base_uri": "https://localhost:8080/"
        },
        "id": "ijBQGCLph6md",
        "outputId": "0bd23773-e25c-4d7e-9794-202dc8ad9b2a"
      },
      "execution_count": 31,
      "outputs": [
        {
          "output_type": "stream",
          "name": "stdout",
          "text": [
            "Product: Taylor Farms Apple & Walnut Salad with Chicken, 5.5 oz (Deli Salad Bowl)\n",
            "Price: $3.47\n"
          ]
        }
      ]
    },
    {
      "cell_type": "code",
      "source": [
        "cart = []\n",
        "total = 0.0\n",
        "\n",
        "# Example: after each prediction\n",
        "predicted_class = \"Apple\"\n",
        "product_info = mapping.get(predicted_class)\n",
        "if product_info is not None:\n",
        "    price = float(product_info['PRICE_CURRENT'])\n",
        "    cart.append((product_info['PRODUCT_NAME'], price))\n",
        "    total += price\n",
        "    print(f\"Added: {product_info['PRODUCT_NAME']} - ${price:.2f}\")\n",
        "    print(f\"Cart Total: ${total:.2f}\")\n",
        "else:\n",
        "    print(\"Price not found for this product.\")"
      ],
      "metadata": {
        "colab": {
          "base_uri": "https://localhost:8080/"
        },
        "id": "O6jW8TlPi8e6",
        "outputId": "ddf2dbb5-7983-409c-cba4-87cc37839bb0"
      },
      "execution_count": 32,
      "outputs": [
        {
          "output_type": "stream",
          "name": "stdout",
          "text": [
            "Added: Taylor Farms Apple & Walnut Salad with Chicken, 5.5 oz (Deli Salad Bowl) - $3.47\n",
            "Cart Total: $3.47\n"
          ]
        }
      ]
    },
    {
      "cell_type": "code",
      "source": [
        "cart = []\n",
        "total = 0.0\n",
        "\n",
        "def add_to_cart(predicted_class):\n",
        "    product_info = mapping.get(predicted_class)\n",
        "    global total\n",
        "    if product_info is not None:\n",
        "        price = float(product_info['PRICE_CURRENT'])\n",
        "        cart.append((product_info['PRODUCT_NAME'], price))\n",
        "        total += price\n",
        "        print(f\"Added: {product_info['PRODUCT_NAME']} - ${price:.2f}\")\n",
        "        print(f\"Cart Total: ${total:.2f}\")\n",
        "    else:\n",
        "        print(\"Price not found for this product.\")\n",
        "\n",
        "# Example usage:\n",
        "add_to_cart(\"Apple\")\n",
        "add_to_cart(\"Milk\")\n",
        "add_to_cart(\"Banana\")"
      ],
      "metadata": {
        "colab": {
          "base_uri": "https://localhost:8080/"
        },
        "id": "5bvLPmS5iZ4H",
        "outputId": "8eda4e1f-f547-4154-b6e2-0f6d2b8ec281"
      },
      "execution_count": 33,
      "outputs": [
        {
          "output_type": "stream",
          "name": "stdout",
          "text": [
            "Added: Taylor Farms Apple & Walnut Salad with Chicken, 5.5 oz (Deli Salad Bowl) - $3.47\n",
            "Cart Total: $3.47\n",
            "Added: Russell Stover Sugar Free Milk Chocolate Pecan Delights with Stevia, 3 oz. Bag - $2.18\n",
            "Cart Total: $5.65\n",
            "Added: Belvita Soft Baked Banana Bread Breakfast Biscuits, 1.76 oz, 5 count - $3.88\n",
            "Cart Total: $9.53\n"
          ]
        }
      ]
    },
    {
      "cell_type": "code",
      "source": [
        "print(\"\\nYour Cart:\")\n",
        "for item, price in cart:\n",
        "    print(f\"{item}: ${price:.2f}\")\n",
        "print(f\"Total: ${total:.2f}\")"
      ],
      "metadata": {
        "colab": {
          "base_uri": "https://localhost:8080/"
        },
        "id": "l70FRhQdjayL",
        "outputId": "79a9d34e-8484-4b93-a79f-a63bde3f7492"
      },
      "execution_count": 34,
      "outputs": [
        {
          "output_type": "stream",
          "name": "stdout",
          "text": [
            "\n",
            "Your Cart:\n",
            "Taylor Farms Apple & Walnut Salad with Chicken, 5.5 oz (Deli Salad Bowl): $3.47\n",
            "Russell Stover Sugar Free Milk Chocolate Pecan Delights with Stevia, 3 oz. Bag: $2.18\n",
            "Belvita Soft Baked Banana Bread Breakfast Biscuits, 1.76 oz, 5 count: $3.88\n",
            "Total: $9.53\n"
          ]
        }
      ]
    },
    {
      "cell_type": "markdown",
      "source": [
        "Track Quantities in the Cart"
      ],
      "metadata": {
        "id": "4Uz5jCAajj9B"
      }
    },
    {
      "cell_type": "code",
      "source": [
        "cart = {}\n",
        "total = 0.0\n",
        "\n",
        "def add_to_cart(predicted_class):\n",
        "    product_info = mapping.get(predicted_class)\n",
        "    global total\n",
        "    if product_info is not None:\n",
        "        price = float(product_info['PRICE_CURRENT'])\n",
        "        if predicted_class in cart:\n",
        "            # Increment quantity\n",
        "            cart[predicted_class]['quantity'] += 1\n",
        "        else:\n",
        "            # Add new item with quantity 1\n",
        "            cart[predicted_class] = {\n",
        "                'name': product_info['PRODUCT_NAME'],\n",
        "                'price': price,\n",
        "                'quantity': 1\n",
        "            }\n",
        "        total += price\n",
        "        print(f\"Added: {product_info['PRODUCT_NAME']} - ${price:.2f}\")\n",
        "        print(f\"Cart Total: ${total:.2f}\")\n",
        "    else:\n",
        "        print(\"Price not found for this product.\")\n",
        "\n",
        "# Example usage:\n",
        "add_to_cart(\"Apple\")\n",
        "add_to_cart(\"Milk\")\n",
        "add_to_cart(\"Apple\")  # Adds another Apple"
      ],
      "metadata": {
        "colab": {
          "base_uri": "https://localhost:8080/"
        },
        "id": "gtVqswLcjje_",
        "outputId": "9f2234ef-9f83-4cc8-a0c7-ec6f20f02fdf"
      },
      "execution_count": 35,
      "outputs": [
        {
          "output_type": "stream",
          "name": "stdout",
          "text": [
            "Added: Taylor Farms Apple & Walnut Salad with Chicken, 5.5 oz (Deli Salad Bowl) - $3.47\n",
            "Cart Total: $3.47\n",
            "Added: Russell Stover Sugar Free Milk Chocolate Pecan Delights with Stevia, 3 oz. Bag - $2.18\n",
            "Cart Total: $5.65\n",
            "Added: Taylor Farms Apple & Walnut Salad with Chicken, 5.5 oz (Deli Salad Bowl) - $3.47\n",
            "Cart Total: $9.12\n"
          ]
        }
      ]
    },
    {
      "cell_type": "code",
      "source": [
        "print(\"\\nYour Cart:\")\n",
        "for item in cart.values():\n",
        "    print(f\"{item['name']} x{item['quantity']}: ${item['price']*item['quantity']:.2f}\")\n",
        "print(f\"Total: ${total:.2f}\")"
      ],
      "metadata": {
        "colab": {
          "base_uri": "https://localhost:8080/"
        },
        "id": "-AJYq5WukKr1",
        "outputId": "497c824c-6e3b-4f14-8012-6385603e83cf"
      },
      "execution_count": 36,
      "outputs": [
        {
          "output_type": "stream",
          "name": "stdout",
          "text": [
            "\n",
            "Your Cart:\n",
            "Taylor Farms Apple & Walnut Salad with Chicken, 5.5 oz (Deli Salad Bowl) x2: $6.94\n",
            "Russell Stover Sugar Free Milk Chocolate Pecan Delights with Stevia, 3 oz. Bag x1: $2.18\n",
            "Total: $9.12\n"
          ]
        }
      ]
    },
    {
      "cell_type": "markdown",
      "source": [
        "Cart Logic (with Quantities)"
      ],
      "metadata": {
        "id": "fXuMRdA8k0vE"
      }
    },
    {
      "cell_type": "code",
      "source": [
        "cart = {}\n",
        "total = 0.0\n",
        "\n",
        "def add_to_cart(predicted_class):\n",
        "    product_info = mapping.get(predicted_class)\n",
        "    global total\n",
        "    if product_info is not None:\n",
        "        price = float(product_info['PRICE_CURRENT'])\n",
        "        if predicted_class in cart:\n",
        "            cart[predicted_class]['quantity'] += 1\n",
        "        else:\n",
        "            cart[predicted_class] = {\n",
        "                'name': product_info['PRODUCT_NAME'],\n",
        "                'price': price,\n",
        "                'quantity': 1\n",
        "            }\n",
        "        total += price\n",
        "        print(f\"Added: {product_info['PRODUCT_NAME']} - ${price:.2f}\")\n",
        "        print(f\"Cart Total: ${total:.2f}\")\n",
        "    else:\n",
        "        print(\"Price not found for this product.\")"
      ],
      "metadata": {
        "id": "tDeqy14Fkj0n"
      },
      "execution_count": 37,
      "outputs": []
    },
    {
      "cell_type": "markdown",
      "source": [
        "Show Cart Contents"
      ],
      "metadata": {
        "id": "PFp8fhEVk5uJ"
      }
    },
    {
      "cell_type": "code",
      "source": [
        "def show_cart():\n",
        "    print(\"\\nYour Cart:\")\n",
        "    for item in cart.values():\n",
        "        print(f\"{item['name']} x{item['quantity']}: ${item['price']*item['quantity']:.2f}\")\n",
        "    print(f\"Total: ${total:.2f}\")"
      ],
      "metadata": {
        "id": "_A_ySCPak5L_"
      },
      "execution_count": 38,
      "outputs": []
    },
    {
      "cell_type": "code",
      "source": [
        "add_to_cart(\"Apple\")\n",
        "add_to_cart(\"Milk\")\n",
        "add_to_cart(\"Apple\")  # Adds another Apple\n",
        "add_to_cart(\"Banana\")\n",
        "add_to_cart(\"Apple\")  # Adds another Apple\n",
        "\n",
        "show_cart()"
      ],
      "metadata": {
        "colab": {
          "base_uri": "https://localhost:8080/"
        },
        "id": "5Y04sgv5lA9C",
        "outputId": "78c4bb17-8e39-4d84-fa3a-1c60ea822eec"
      },
      "execution_count": 39,
      "outputs": [
        {
          "output_type": "stream",
          "name": "stdout",
          "text": [
            "Added: Taylor Farms Apple & Walnut Salad with Chicken, 5.5 oz (Deli Salad Bowl) - $3.47\n",
            "Cart Total: $3.47\n",
            "Added: Russell Stover Sugar Free Milk Chocolate Pecan Delights with Stevia, 3 oz. Bag - $2.18\n",
            "Cart Total: $5.65\n",
            "Added: Taylor Farms Apple & Walnut Salad with Chicken, 5.5 oz (Deli Salad Bowl) - $3.47\n",
            "Cart Total: $9.12\n",
            "Added: Belvita Soft Baked Banana Bread Breakfast Biscuits, 1.76 oz, 5 count - $3.88\n",
            "Cart Total: $13.00\n",
            "Added: Taylor Farms Apple & Walnut Salad with Chicken, 5.5 oz (Deli Salad Bowl) - $3.47\n",
            "Cart Total: $16.47\n",
            "\n",
            "Your Cart:\n",
            "Taylor Farms Apple & Walnut Salad with Chicken, 5.5 oz (Deli Salad Bowl) x3: $10.41\n",
            "Russell Stover Sugar Free Milk Chocolate Pecan Delights with Stevia, 3 oz. Bag x1: $2.18\n",
            "Belvita Soft Baked Banana Bread Breakfast Biscuits, 1.76 oz, 5 count x1: $3.88\n",
            "Total: $16.47\n"
          ]
        }
      ]
    },
    {
      "cell_type": "markdown",
      "source": [
        "Predict Product from Image"
      ],
      "metadata": {
        "id": "5P_xXXpZlkfB"
      }
    },
    {
      "cell_type": "code",
      "source": [
        "from tensorflow.keras.preprocessing import image\n",
        "import numpy as np\n",
        "\n",
        "def predict_class(img_path, model, class_names):\n",
        "    img = image.load_img(img_path, target_size=(224, 224))\n",
        "    img_array = image.img_to_array(img) / 255.0\n",
        "    img_array = np.expand_dims(img_array, axis=0)\n",
        "    pred = model.predict(img_array)\n",
        "    predicted_class = class_names[np.argmax(pred)]\n",
        "    return predicted_class"
      ],
      "metadata": {
        "id": "BwEtoT6QlkAV"
      },
      "execution_count": 40,
      "outputs": []
    },
    {
      "cell_type": "markdown",
      "source": [
        "Integrate Prediction with Cart"
      ],
      "metadata": {
        "id": "CxQz4V9ulsnj"
      }
    },
    {
      "cell_type": "code",
      "source": [
        "import os\n",
        "import shutil\n",
        "\n",
        "src_root = 'grocery_images/GroceryStoreDataset/dataset/train'\n",
        "dst_root = 'train_flat'\n",
        "os.makedirs(dst_root, exist_ok=True)\n",
        "\n",
        "for category in os.listdir(src_root):\n",
        "    category_path = os.path.join(src_root, category)\n",
        "    if os.path.isdir(category_path):\n",
        "        for product in os.listdir(category_path):\n",
        "            product_path = os.path.join(category_path, product)\n",
        "            if os.path.isdir(product_path):\n",
        "                dst_path = os.path.join(dst_root, product)\n",
        "                if not os.path.exists(dst_path):\n",
        "                    shutil.copytree(product_path, dst_path)"
      ],
      "metadata": {
        "id": "wM9o-NEliJrn"
      },
      "execution_count": 41,
      "outputs": []
    },
    {
      "cell_type": "code",
      "source": [
        "print(os.listdir('train_flat'))"
      ],
      "metadata": {
        "colab": {
          "base_uri": "https://localhost:8080/"
        },
        "id": "9n9Fyiu8iMTc",
        "outputId": "18b25dc2-d17d-4d8e-a2ea-2c42311a54a3"
      },
      "execution_count": 42,
      "outputs": [
        {
          "output_type": "stream",
          "name": "stdout",
          "text": [
            "['Apple', 'Avocado', 'Aubergine', 'Papaya', 'Leek', 'Asparagus', 'Lime', 'Red-Beet', 'Oat-Milk', 'Juice', 'Sour-Cream', 'Ginger', 'Red-Grapefruit', 'Onion', 'Mango', 'Kiwi', 'Carrots', 'Pepper', 'Pomegranate', 'Milk', 'Soy-Milk', 'Soyghurt', 'Pear', 'Nectarine', 'Orange', 'Satsumas', 'Passion-Fruit', 'Cucumber', 'Garlic', 'Tomato', 'Plum', 'Sour-Milk', 'Cabbage', 'Pineapple', 'Brown-Cap-Mushroom', 'Potato', 'Melon', 'Zucchini', 'Lemon', 'Banana', 'Oatghurt', 'Yoghurt', 'Peach']\n"
          ]
        }
      ]
    },
    {
      "cell_type": "code",
      "source": [
        "from tensorflow.keras.preprocessing.image import ImageDataGenerator\n",
        "\n",
        "IMG_SIZE = 224\n",
        "BATCH_SIZE = 16\n",
        "\n",
        "datagen = ImageDataGenerator(\n",
        "    rescale=1./255,\n",
        "    validation_split=0.2\n",
        ")\n",
        "\n",
        "train_gen = datagen.flow_from_directory(\n",
        "    'train_flat',\n",
        "    target_size=(IMG_SIZE, IMG_SIZE),\n",
        "    batch_size=BATCH_SIZE,\n",
        "    class_mode='categorical',\n",
        "    subset='training'\n",
        ")\n",
        "\n",
        "val_gen = datagen.flow_from_directory(\n",
        "    'train_flat',  # <--- CHANGED HERE\n",
        "    target_size=(IMG_SIZE, IMG_SIZE),\n",
        "    batch_size=BATCH_SIZE,\n",
        "    class_mode='categorical',\n",
        "    subset='validation'\n",
        ")\n",
        "\n",
        "class_names = list(train_gen.class_indices.keys())\n",
        "print(\"Classes:\", class_names)"
      ],
      "metadata": {
        "colab": {
          "base_uri": "https://localhost:8080/"
        },
        "id": "cU1RSaRFlq6v",
        "outputId": "eebe3f67-5095-4844-8622-319c6929e96e"
      },
      "execution_count": 43,
      "outputs": [
        {
          "output_type": "stream",
          "name": "stdout",
          "text": [
            "Found 2128 images belonging to 43 classes.\n",
            "Found 512 images belonging to 43 classes.\n",
            "Classes: ['Apple', 'Asparagus', 'Aubergine', 'Avocado', 'Banana', 'Brown-Cap-Mushroom', 'Cabbage', 'Carrots', 'Cucumber', 'Garlic', 'Ginger', 'Juice', 'Kiwi', 'Leek', 'Lemon', 'Lime', 'Mango', 'Melon', 'Milk', 'Nectarine', 'Oat-Milk', 'Oatghurt', 'Onion', 'Orange', 'Papaya', 'Passion-Fruit', 'Peach', 'Pear', 'Pepper', 'Pineapple', 'Plum', 'Pomegranate', 'Potato', 'Red-Beet', 'Red-Grapefruit', 'Satsumas', 'Sour-Cream', 'Sour-Milk', 'Soy-Milk', 'Soyghurt', 'Tomato', 'Yoghurt', 'Zucchini']\n"
          ]
        }
      ]
    },
    {
      "cell_type": "code",
      "source": [
        "from tensorflow.keras.applications import MobileNetV2\n",
        "from tensorflow.keras.models import Sequential\n",
        "from tensorflow.keras.layers import Dense, GlobalAveragePooling2D\n",
        "from tensorflow.keras.optimizers import Adam\n",
        "\n",
        "base_model = MobileNetV2(input_shape=(IMG_SIZE, IMG_SIZE, 3), include_top=False, weights='imagenet')\n",
        "base_model.trainable = False\n",
        "\n",
        "model = Sequential([\n",
        "    base_model,\n",
        "    GlobalAveragePooling2D(),\n",
        "    Dense(128, activation='relu'),\n",
        "    Dense(train_gen.num_classes, activation='softmax')\n",
        "])\n",
        "\n",
        "model.compile(\n",
        "    optimizer=Adam(),\n",
        "    loss='categorical_crossentropy',\n",
        "    metrics=['accuracy']\n",
        ")\n",
        "\n",
        "history = model.fit(\n",
        "    train_gen,\n",
        "    validation_data=val_gen,\n",
        "    epochs=10\n",
        ")"
      ],
      "metadata": {
        "colab": {
          "base_uri": "https://localhost:8080/"
        },
        "id": "PzaGe9TdpdeU",
        "outputId": "fc97eedf-9941-411c-ba81-6fb665682b19"
      },
      "execution_count": 44,
      "outputs": [
        {
          "output_type": "stream",
          "name": "stdout",
          "text": [
            "Downloading data from https://storage.googleapis.com/tensorflow/keras-applications/mobilenet_v2/mobilenet_v2_weights_tf_dim_ordering_tf_kernels_1.0_224_no_top.h5\n",
            "\u001b[1m9406464/9406464\u001b[0m \u001b[32m━━━━━━━━━━━━━━━━━━━━\u001b[0m\u001b[37m\u001b[0m \u001b[1m0s\u001b[0m 0us/step\n",
            "Epoch 1/10\n"
          ]
        },
        {
          "output_type": "stream",
          "name": "stderr",
          "text": [
            "/usr/local/lib/python3.11/dist-packages/keras/src/trainers/data_adapters/py_dataset_adapter.py:121: UserWarning: Your `PyDataset` class should call `super().__init__(**kwargs)` in its constructor. `**kwargs` can include `workers`, `use_multiprocessing`, `max_queue_size`. Do not pass these arguments to `fit()`, as they will be ignored.\n",
            "  self._warn_if_super_not_called()\n"
          ]
        },
        {
          "output_type": "stream",
          "name": "stdout",
          "text": [
            "\u001b[1m133/133\u001b[0m \u001b[32m━━━━━━━━━━━━━━━━━━━━\u001b[0m\u001b[37m\u001b[0m \u001b[1m104s\u001b[0m 731ms/step - accuracy: 0.4920 - loss: 2.0936 - val_accuracy: 0.7715 - val_loss: 0.8042\n",
            "Epoch 2/10\n",
            "\u001b[1m133/133\u001b[0m \u001b[32m━━━━━━━━━━━━━━━━━━━━\u001b[0m\u001b[37m\u001b[0m \u001b[1m92s\u001b[0m 688ms/step - accuracy: 0.9321 - loss: 0.2888 - val_accuracy: 0.8379 - val_loss: 0.5089\n",
            "Epoch 3/10\n",
            "\u001b[1m133/133\u001b[0m \u001b[32m━━━━━━━━━━━━━━━━━━━━\u001b[0m\u001b[37m\u001b[0m \u001b[1m89s\u001b[0m 671ms/step - accuracy: 0.9841 - loss: 0.1041 - val_accuracy: 0.8594 - val_loss: 0.4686\n",
            "Epoch 4/10\n",
            "\u001b[1m133/133\u001b[0m \u001b[32m━━━━━━━━━━━━━━━━━━━━\u001b[0m\u001b[37m\u001b[0m \u001b[1m142s\u001b[0m 676ms/step - accuracy: 0.9927 - loss: 0.0522 - val_accuracy: 0.8906 - val_loss: 0.3702\n",
            "Epoch 5/10\n",
            "\u001b[1m133/133\u001b[0m \u001b[32m━━━━━━━━━━━━━━━━━━━━\u001b[0m\u001b[37m\u001b[0m \u001b[1m93s\u001b[0m 697ms/step - accuracy: 0.9960 - loss: 0.0296 - val_accuracy: 0.8750 - val_loss: 0.3968\n",
            "Epoch 6/10\n",
            "\u001b[1m133/133\u001b[0m \u001b[32m━━━━━━━━━━━━━━━━━━━━\u001b[0m\u001b[37m\u001b[0m \u001b[1m91s\u001b[0m 688ms/step - accuracy: 0.9962 - loss: 0.0229 - val_accuracy: 0.8867 - val_loss: 0.3341\n",
            "Epoch 7/10\n",
            "\u001b[1m133/133\u001b[0m \u001b[32m━━━━━━━━━━━━━━━━━━━━\u001b[0m\u001b[37m\u001b[0m \u001b[1m91s\u001b[0m 683ms/step - accuracy: 0.9986 - loss: 0.0128 - val_accuracy: 0.8828 - val_loss: 0.3714\n",
            "Epoch 8/10\n",
            "\u001b[1m133/133\u001b[0m \u001b[32m━━━━━━━━━━━━━━━━━━━━\u001b[0m\u001b[37m\u001b[0m \u001b[1m93s\u001b[0m 701ms/step - accuracy: 0.9989 - loss: 0.0101 - val_accuracy: 0.9023 - val_loss: 0.3159\n",
            "Epoch 9/10\n",
            "\u001b[1m133/133\u001b[0m \u001b[32m━━━━━━━━━━━━━━━━━━━━\u001b[0m\u001b[37m\u001b[0m \u001b[1m91s\u001b[0m 688ms/step - accuracy: 0.9994 - loss: 0.0079 - val_accuracy: 0.8828 - val_loss: 0.3457\n",
            "Epoch 10/10\n",
            "\u001b[1m133/133\u001b[0m \u001b[32m━━━━━━━━━━━━━━━━━━━━\u001b[0m\u001b[37m\u001b[0m \u001b[1m92s\u001b[0m 691ms/step - accuracy: 1.0000 - loss: 0.0054 - val_accuracy: 0.8906 - val_loss: 0.3207\n"
          ]
        }
      ]
    },
    {
      "cell_type": "code",
      "source": [
        "model.save('product_classifier.keras')"
      ],
      "metadata": {
        "id": "ZjS3doVFte6S"
      },
      "execution_count": 45,
      "outputs": []
    },
    {
      "cell_type": "code",
      "source": [
        "import tensorflow as tf\n",
        "model = tf.keras.models.load_model('product_classifier.keras')"
      ],
      "metadata": {
        "id": "-fJ-VpGRtnpM"
      },
      "execution_count": 46,
      "outputs": []
    },
    {
      "cell_type": "code",
      "source": [
        "from google.colab import files\n",
        "uploaded = files.upload()  # This will prompt the user to upload an image\n",
        "\n",
        "img_path = list(uploaded.keys())[0]  # Get the uploaded file's name"
      ],
      "metadata": {
        "colab": {
          "base_uri": "https://localhost:8080/",
          "height": 73
        },
        "id": "5KuGGT0VtskP",
        "outputId": "e8413386-4549-48ee-ffec-4cd07a395f78"
      },
      "execution_count": null,
      "outputs": [
        {
          "output_type": "display_data",
          "data": {
            "text/plain": [
              "<IPython.core.display.HTML object>"
            ],
            "text/html": [
              "\n",
              "     <input type=\"file\" id=\"files-fc1ca4d6-4778-4faa-9609-3319e037f9a1\" name=\"files[]\" multiple disabled\n",
              "        style=\"border:none\" />\n",
              "     <output id=\"result-fc1ca4d6-4778-4faa-9609-3319e037f9a1\">\n",
              "      Upload widget is only available when the cell has been executed in the\n",
              "      current browser session. Please rerun this cell to enable.\n",
              "      </output>\n",
              "      <script>// Copyright 2017 Google LLC\n",
              "//\n",
              "// Licensed under the Apache License, Version 2.0 (the \"License\");\n",
              "// you may not use this file except in compliance with the License.\n",
              "// You may obtain a copy of the License at\n",
              "//\n",
              "//      http://www.apache.org/licenses/LICENSE-2.0\n",
              "//\n",
              "// Unless required by applicable law or agreed to in writing, software\n",
              "// distributed under the License is distributed on an \"AS IS\" BASIS,\n",
              "// WITHOUT WARRANTIES OR CONDITIONS OF ANY KIND, either express or implied.\n",
              "// See the License for the specific language governing permissions and\n",
              "// limitations under the License.\n",
              "\n",
              "/**\n",
              " * @fileoverview Helpers for google.colab Python module.\n",
              " */\n",
              "(function(scope) {\n",
              "function span(text, styleAttributes = {}) {\n",
              "  const element = document.createElement('span');\n",
              "  element.textContent = text;\n",
              "  for (const key of Object.keys(styleAttributes)) {\n",
              "    element.style[key] = styleAttributes[key];\n",
              "  }\n",
              "  return element;\n",
              "}\n",
              "\n",
              "// Max number of bytes which will be uploaded at a time.\n",
              "const MAX_PAYLOAD_SIZE = 100 * 1024;\n",
              "\n",
              "function _uploadFiles(inputId, outputId) {\n",
              "  const steps = uploadFilesStep(inputId, outputId);\n",
              "  const outputElement = document.getElementById(outputId);\n",
              "  // Cache steps on the outputElement to make it available for the next call\n",
              "  // to uploadFilesContinue from Python.\n",
              "  outputElement.steps = steps;\n",
              "\n",
              "  return _uploadFilesContinue(outputId);\n",
              "}\n",
              "\n",
              "// This is roughly an async generator (not supported in the browser yet),\n",
              "// where there are multiple asynchronous steps and the Python side is going\n",
              "// to poll for completion of each step.\n",
              "// This uses a Promise to block the python side on completion of each step,\n",
              "// then passes the result of the previous step as the input to the next step.\n",
              "function _uploadFilesContinue(outputId) {\n",
              "  const outputElement = document.getElementById(outputId);\n",
              "  const steps = outputElement.steps;\n",
              "\n",
              "  const next = steps.next(outputElement.lastPromiseValue);\n",
              "  return Promise.resolve(next.value.promise).then((value) => {\n",
              "    // Cache the last promise value to make it available to the next\n",
              "    // step of the generator.\n",
              "    outputElement.lastPromiseValue = value;\n",
              "    return next.value.response;\n",
              "  });\n",
              "}\n",
              "\n",
              "/**\n",
              " * Generator function which is called between each async step of the upload\n",
              " * process.\n",
              " * @param {string} inputId Element ID of the input file picker element.\n",
              " * @param {string} outputId Element ID of the output display.\n",
              " * @return {!Iterable<!Object>} Iterable of next steps.\n",
              " */\n",
              "function* uploadFilesStep(inputId, outputId) {\n",
              "  const inputElement = document.getElementById(inputId);\n",
              "  inputElement.disabled = false;\n",
              "\n",
              "  const outputElement = document.getElementById(outputId);\n",
              "  outputElement.innerHTML = '';\n",
              "\n",
              "  const pickedPromise = new Promise((resolve) => {\n",
              "    inputElement.addEventListener('change', (e) => {\n",
              "      resolve(e.target.files);\n",
              "    });\n",
              "  });\n",
              "\n",
              "  const cancel = document.createElement('button');\n",
              "  inputElement.parentElement.appendChild(cancel);\n",
              "  cancel.textContent = 'Cancel upload';\n",
              "  const cancelPromise = new Promise((resolve) => {\n",
              "    cancel.onclick = () => {\n",
              "      resolve(null);\n",
              "    };\n",
              "  });\n",
              "\n",
              "  // Wait for the user to pick the files.\n",
              "  const files = yield {\n",
              "    promise: Promise.race([pickedPromise, cancelPromise]),\n",
              "    response: {\n",
              "      action: 'starting',\n",
              "    }\n",
              "  };\n",
              "\n",
              "  cancel.remove();\n",
              "\n",
              "  // Disable the input element since further picks are not allowed.\n",
              "  inputElement.disabled = true;\n",
              "\n",
              "  if (!files) {\n",
              "    return {\n",
              "      response: {\n",
              "        action: 'complete',\n",
              "      }\n",
              "    };\n",
              "  }\n",
              "\n",
              "  for (const file of files) {\n",
              "    const li = document.createElement('li');\n",
              "    li.append(span(file.name, {fontWeight: 'bold'}));\n",
              "    li.append(span(\n",
              "        `(${file.type || 'n/a'}) - ${file.size} bytes, ` +\n",
              "        `last modified: ${\n",
              "            file.lastModifiedDate ? file.lastModifiedDate.toLocaleDateString() :\n",
              "                                    'n/a'} - `));\n",
              "    const percent = span('0% done');\n",
              "    li.appendChild(percent);\n",
              "\n",
              "    outputElement.appendChild(li);\n",
              "\n",
              "    const fileDataPromise = new Promise((resolve) => {\n",
              "      const reader = new FileReader();\n",
              "      reader.onload = (e) => {\n",
              "        resolve(e.target.result);\n",
              "      };\n",
              "      reader.readAsArrayBuffer(file);\n",
              "    });\n",
              "    // Wait for the data to be ready.\n",
              "    let fileData = yield {\n",
              "      promise: fileDataPromise,\n",
              "      response: {\n",
              "        action: 'continue',\n",
              "      }\n",
              "    };\n",
              "\n",
              "    // Use a chunked sending to avoid message size limits. See b/62115660.\n",
              "    let position = 0;\n",
              "    do {\n",
              "      const length = Math.min(fileData.byteLength - position, MAX_PAYLOAD_SIZE);\n",
              "      const chunk = new Uint8Array(fileData, position, length);\n",
              "      position += length;\n",
              "\n",
              "      const base64 = btoa(String.fromCharCode.apply(null, chunk));\n",
              "      yield {\n",
              "        response: {\n",
              "          action: 'append',\n",
              "          file: file.name,\n",
              "          data: base64,\n",
              "        },\n",
              "      };\n",
              "\n",
              "      let percentDone = fileData.byteLength === 0 ?\n",
              "          100 :\n",
              "          Math.round((position / fileData.byteLength) * 100);\n",
              "      percent.textContent = `${percentDone}% done`;\n",
              "\n",
              "    } while (position < fileData.byteLength);\n",
              "  }\n",
              "\n",
              "  // All done.\n",
              "  yield {\n",
              "    response: {\n",
              "      action: 'complete',\n",
              "    }\n",
              "  };\n",
              "}\n",
              "\n",
              "scope.google = scope.google || {};\n",
              "scope.google.colab = scope.google.colab || {};\n",
              "scope.google.colab._files = {\n",
              "  _uploadFiles,\n",
              "  _uploadFilesContinue,\n",
              "};\n",
              "})(self);\n",
              "</script> "
            ]
          },
          "metadata": {}
        },
        {
          "output_type": "stream",
          "name": "stdout",
          "text": [
            "Saving Screenshot 2025-07-12 224229.png to Screenshot 2025-07-12 224229.png\n"
          ]
        }
      ]
    },
    {
      "cell_type": "code",
      "source": [
        "predicted_class = predict_class(img_path, model, class_names)\n",
        "print(\"Predicted class:\", predicted_class)"
      ],
      "metadata": {
        "colab": {
          "base_uri": "https://localhost:8080/"
        },
        "id": "6VU91StMuK6I",
        "outputId": "1bca1bba-942e-4362-ea5b-e6da709b6ae6"
      },
      "execution_count": null,
      "outputs": [
        {
          "output_type": "stream",
          "name": "stdout",
          "text": [
            "\u001b[1m1/1\u001b[0m \u001b[32m━━━━━━━━━━━━━━━━━━━━\u001b[0m\u001b[37m\u001b[0m \u001b[1m0s\u001b[0m 67ms/step\n",
            "Predicted class: Apple\n"
          ]
        }
      ]
    },
    {
      "cell_type": "code",
      "source": [
        "add_to_cart(predicted_class)\n",
        "show_cart()"
      ],
      "metadata": {
        "colab": {
          "base_uri": "https://localhost:8080/"
        },
        "id": "aRjsCuWZulhR",
        "outputId": "9979cc03-fcc3-477c-9f4a-5d05ea9b1325"
      },
      "execution_count": null,
      "outputs": [
        {
          "output_type": "stream",
          "name": "stdout",
          "text": [
            "Added: Taylor Farms Apple & Walnut Salad with Chicken, 5.5 oz (Deli Salad Bowl) - $3.47\n",
            "Cart Total: $23.41\n",
            "\n",
            "Your Cart:\n",
            "Taylor Farms Apple & Walnut Salad with Chicken, 5.5 oz (Deli Salad Bowl) x5: $17.35\n",
            "Russell Stover Sugar Free Milk Chocolate Pecan Delights with Stevia, 3 oz. Bag x1: $2.18\n",
            "Belvita Soft Baked Banana Bread Breakfast Biscuits, 1.76 oz, 5 count x1: $3.88\n",
            "Total: $23.41\n"
          ]
        }
      ]
    },
    {
      "cell_type": "code",
      "source": [
        "from google.colab import files\n",
        "uploaded = files.upload()  # This will prompt the user to upload an image\n",
        "\n",
        "img_path = list(uploaded.keys())[0]  # Get the uploaded file's name"
      ],
      "metadata": {
        "colab": {
          "base_uri": "https://localhost:8080/",
          "height": 73
        },
        "id": "dkpNFiHaohYY",
        "outputId": "a42d6758-97fe-4f20-b5a3-7feb4bc49859"
      },
      "execution_count": null,
      "outputs": [
        {
          "output_type": "display_data",
          "data": {
            "text/plain": [
              "<IPython.core.display.HTML object>"
            ],
            "text/html": [
              "\n",
              "     <input type=\"file\" id=\"files-5e3fe10f-6d2a-4413-93c6-7ad2bb8d3caa\" name=\"files[]\" multiple disabled\n",
              "        style=\"border:none\" />\n",
              "     <output id=\"result-5e3fe10f-6d2a-4413-93c6-7ad2bb8d3caa\">\n",
              "      Upload widget is only available when the cell has been executed in the\n",
              "      current browser session. Please rerun this cell to enable.\n",
              "      </output>\n",
              "      <script>// Copyright 2017 Google LLC\n",
              "//\n",
              "// Licensed under the Apache License, Version 2.0 (the \"License\");\n",
              "// you may not use this file except in compliance with the License.\n",
              "// You may obtain a copy of the License at\n",
              "//\n",
              "//      http://www.apache.org/licenses/LICENSE-2.0\n",
              "//\n",
              "// Unless required by applicable law or agreed to in writing, software\n",
              "// distributed under the License is distributed on an \"AS IS\" BASIS,\n",
              "// WITHOUT WARRANTIES OR CONDITIONS OF ANY KIND, either express or implied.\n",
              "// See the License for the specific language governing permissions and\n",
              "// limitations under the License.\n",
              "\n",
              "/**\n",
              " * @fileoverview Helpers for google.colab Python module.\n",
              " */\n",
              "(function(scope) {\n",
              "function span(text, styleAttributes = {}) {\n",
              "  const element = document.createElement('span');\n",
              "  element.textContent = text;\n",
              "  for (const key of Object.keys(styleAttributes)) {\n",
              "    element.style[key] = styleAttributes[key];\n",
              "  }\n",
              "  return element;\n",
              "}\n",
              "\n",
              "// Max number of bytes which will be uploaded at a time.\n",
              "const MAX_PAYLOAD_SIZE = 100 * 1024;\n",
              "\n",
              "function _uploadFiles(inputId, outputId) {\n",
              "  const steps = uploadFilesStep(inputId, outputId);\n",
              "  const outputElement = document.getElementById(outputId);\n",
              "  // Cache steps on the outputElement to make it available for the next call\n",
              "  // to uploadFilesContinue from Python.\n",
              "  outputElement.steps = steps;\n",
              "\n",
              "  return _uploadFilesContinue(outputId);\n",
              "}\n",
              "\n",
              "// This is roughly an async generator (not supported in the browser yet),\n",
              "// where there are multiple asynchronous steps and the Python side is going\n",
              "// to poll for completion of each step.\n",
              "// This uses a Promise to block the python side on completion of each step,\n",
              "// then passes the result of the previous step as the input to the next step.\n",
              "function _uploadFilesContinue(outputId) {\n",
              "  const outputElement = document.getElementById(outputId);\n",
              "  const steps = outputElement.steps;\n",
              "\n",
              "  const next = steps.next(outputElement.lastPromiseValue);\n",
              "  return Promise.resolve(next.value.promise).then((value) => {\n",
              "    // Cache the last promise value to make it available to the next\n",
              "    // step of the generator.\n",
              "    outputElement.lastPromiseValue = value;\n",
              "    return next.value.response;\n",
              "  });\n",
              "}\n",
              "\n",
              "/**\n",
              " * Generator function which is called between each async step of the upload\n",
              " * process.\n",
              " * @param {string} inputId Element ID of the input file picker element.\n",
              " * @param {string} outputId Element ID of the output display.\n",
              " * @return {!Iterable<!Object>} Iterable of next steps.\n",
              " */\n",
              "function* uploadFilesStep(inputId, outputId) {\n",
              "  const inputElement = document.getElementById(inputId);\n",
              "  inputElement.disabled = false;\n",
              "\n",
              "  const outputElement = document.getElementById(outputId);\n",
              "  outputElement.innerHTML = '';\n",
              "\n",
              "  const pickedPromise = new Promise((resolve) => {\n",
              "    inputElement.addEventListener('change', (e) => {\n",
              "      resolve(e.target.files);\n",
              "    });\n",
              "  });\n",
              "\n",
              "  const cancel = document.createElement('button');\n",
              "  inputElement.parentElement.appendChild(cancel);\n",
              "  cancel.textContent = 'Cancel upload';\n",
              "  const cancelPromise = new Promise((resolve) => {\n",
              "    cancel.onclick = () => {\n",
              "      resolve(null);\n",
              "    };\n",
              "  });\n",
              "\n",
              "  // Wait for the user to pick the files.\n",
              "  const files = yield {\n",
              "    promise: Promise.race([pickedPromise, cancelPromise]),\n",
              "    response: {\n",
              "      action: 'starting',\n",
              "    }\n",
              "  };\n",
              "\n",
              "  cancel.remove();\n",
              "\n",
              "  // Disable the input element since further picks are not allowed.\n",
              "  inputElement.disabled = true;\n",
              "\n",
              "  if (!files) {\n",
              "    return {\n",
              "      response: {\n",
              "        action: 'complete',\n",
              "      }\n",
              "    };\n",
              "  }\n",
              "\n",
              "  for (const file of files) {\n",
              "    const li = document.createElement('li');\n",
              "    li.append(span(file.name, {fontWeight: 'bold'}));\n",
              "    li.append(span(\n",
              "        `(${file.type || 'n/a'}) - ${file.size} bytes, ` +\n",
              "        `last modified: ${\n",
              "            file.lastModifiedDate ? file.lastModifiedDate.toLocaleDateString() :\n",
              "                                    'n/a'} - `));\n",
              "    const percent = span('0% done');\n",
              "    li.appendChild(percent);\n",
              "\n",
              "    outputElement.appendChild(li);\n",
              "\n",
              "    const fileDataPromise = new Promise((resolve) => {\n",
              "      const reader = new FileReader();\n",
              "      reader.onload = (e) => {\n",
              "        resolve(e.target.result);\n",
              "      };\n",
              "      reader.readAsArrayBuffer(file);\n",
              "    });\n",
              "    // Wait for the data to be ready.\n",
              "    let fileData = yield {\n",
              "      promise: fileDataPromise,\n",
              "      response: {\n",
              "        action: 'continue',\n",
              "      }\n",
              "    };\n",
              "\n",
              "    // Use a chunked sending to avoid message size limits. See b/62115660.\n",
              "    let position = 0;\n",
              "    do {\n",
              "      const length = Math.min(fileData.byteLength - position, MAX_PAYLOAD_SIZE);\n",
              "      const chunk = new Uint8Array(fileData, position, length);\n",
              "      position += length;\n",
              "\n",
              "      const base64 = btoa(String.fromCharCode.apply(null, chunk));\n",
              "      yield {\n",
              "        response: {\n",
              "          action: 'append',\n",
              "          file: file.name,\n",
              "          data: base64,\n",
              "        },\n",
              "      };\n",
              "\n",
              "      let percentDone = fileData.byteLength === 0 ?\n",
              "          100 :\n",
              "          Math.round((position / fileData.byteLength) * 100);\n",
              "      percent.textContent = `${percentDone}% done`;\n",
              "\n",
              "    } while (position < fileData.byteLength);\n",
              "  }\n",
              "\n",
              "  // All done.\n",
              "  yield {\n",
              "    response: {\n",
              "      action: 'complete',\n",
              "    }\n",
              "  };\n",
              "}\n",
              "\n",
              "scope.google = scope.google || {};\n",
              "scope.google.colab = scope.google.colab || {};\n",
              "scope.google.colab._files = {\n",
              "  _uploadFiles,\n",
              "  _uploadFilesContinue,\n",
              "};\n",
              "})(self);\n",
              "</script> "
            ]
          },
          "metadata": {}
        },
        {
          "output_type": "stream",
          "name": "stdout",
          "text": [
            "Saving Screenshot 2025-07-12 225534.png to Screenshot 2025-07-12 225534.png\n"
          ]
        }
      ]
    },
    {
      "cell_type": "code",
      "source": [
        "predicted_class = predict_class(img_path, model, class_names)\n",
        "print(\"Predicted class:\", predicted_class)"
      ],
      "metadata": {
        "colab": {
          "base_uri": "https://localhost:8080/"
        },
        "id": "8ExJRFhuo5nv",
        "outputId": "e203e24b-97e0-4897-df28-c38c530e1199"
      },
      "execution_count": null,
      "outputs": [
        {
          "output_type": "stream",
          "name": "stdout",
          "text": [
            "\u001b[1m1/1\u001b[0m \u001b[32m━━━━━━━━━━━━━━━━━━━━\u001b[0m\u001b[37m\u001b[0m \u001b[1m0s\u001b[0m 64ms/step\n",
            "Predicted class: Juice\n"
          ]
        }
      ]
    },
    {
      "cell_type": "code",
      "source": [
        "import os\n",
        "\n",
        "for fname in os.listdir('train_flat'):\n",
        "         fpath = os.path.join('train_flat', fname)\n",
        "         if os.path.isfile(fpath) and not fname.startswith('.'):\n",
        "             os.remove(fpath)"
      ],
      "metadata": {
        "id": "9t-SiYiWsrBM"
      },
      "execution_count": 47,
      "outputs": []
    },
    {
      "cell_type": "code",
      "source": [
        "datagen = ImageDataGenerator(\n",
        "    rescale=1./255,\n",
        "    validation_split=0.2,\n",
        "    rotation_range=30,\n",
        "    width_shift_range=0.2,\n",
        "    height_shift_range=0.2,\n",
        "    shear_range=0.2,\n",
        "    zoom_range=0.2,\n",
        "    horizontal_flip=True,\n",
        "    brightness_range=[0.7, 1.3],\n",
        "    fill_mode='nearest'\n",
        ")"
      ],
      "metadata": {
        "id": "B16zKlRjz_Ex"
      },
      "execution_count": 48,
      "outputs": []
    },
    {
      "cell_type": "code",
      "source": [
        "base_model.trainable = True\n",
        "for layer in base_model.layers[:100]:\n",
        "    layer.trainable = False\n",
        "model.compile(optimizer=Adam(1e-5), loss='categorical_crossentropy', metrics=['accuracy'])\n",
        "history_finetune = model.fit(train_gen, validation_data=val_gen, epochs=10)"
      ],
      "metadata": {
        "colab": {
          "base_uri": "https://localhost:8080/"
        },
        "id": "83HV4fMa33jP",
        "outputId": "5c96946a-6170-4c4b-a6ac-84683bc1b94a"
      },
      "execution_count": 49,
      "outputs": [
        {
          "output_type": "stream",
          "name": "stdout",
          "text": [
            "Epoch 1/10\n",
            "\u001b[1m133/133\u001b[0m \u001b[32m━━━━━━━━━━━━━━━━━━━━\u001b[0m\u001b[37m\u001b[0m \u001b[1m103s\u001b[0m 725ms/step - accuracy: 1.0000 - loss: 0.0036 - val_accuracy: 0.9004 - val_loss: 0.3100\n",
            "Epoch 2/10\n",
            "\u001b[1m133/133\u001b[0m \u001b[32m━━━━━━━━━━━━━━━━━━━━\u001b[0m\u001b[37m\u001b[0m \u001b[1m93s\u001b[0m 702ms/step - accuracy: 1.0000 - loss: 0.0039 - val_accuracy: 0.9004 - val_loss: 0.3078\n",
            "Epoch 3/10\n",
            "\u001b[1m133/133\u001b[0m \u001b[32m━━━━━━━━━━━━━━━━━━━━\u001b[0m\u001b[37m\u001b[0m \u001b[1m141s\u001b[0m 697ms/step - accuracy: 1.0000 - loss: 0.0037 - val_accuracy: 0.9004 - val_loss: 0.3068\n",
            "Epoch 4/10\n",
            "\u001b[1m133/133\u001b[0m \u001b[32m━━━━━━━━━━━━━━━━━━━━\u001b[0m\u001b[37m\u001b[0m \u001b[1m95s\u001b[0m 714ms/step - accuracy: 1.0000 - loss: 0.0037 - val_accuracy: 0.9004 - val_loss: 0.3063\n",
            "Epoch 5/10\n",
            "\u001b[1m133/133\u001b[0m \u001b[32m━━━━━━━━━━━━━━━━━━━━\u001b[0m\u001b[37m\u001b[0m \u001b[1m94s\u001b[0m 709ms/step - accuracy: 1.0000 - loss: 0.0036 - val_accuracy: 0.9004 - val_loss: 0.3057\n",
            "Epoch 6/10\n",
            "\u001b[1m133/133\u001b[0m \u001b[32m━━━━━━━━━━━━━━━━━━━━\u001b[0m\u001b[37m\u001b[0m \u001b[1m143s\u001b[0m 721ms/step - accuracy: 1.0000 - loss: 0.0034 - val_accuracy: 0.9004 - val_loss: 0.3044\n",
            "Epoch 7/10\n",
            "\u001b[1m133/133\u001b[0m \u001b[32m━━━━━━━━━━━━━━━━━━━━\u001b[0m\u001b[37m\u001b[0m \u001b[1m138s\u001b[0m 691ms/step - accuracy: 1.0000 - loss: 0.0032 - val_accuracy: 0.9004 - val_loss: 0.3034\n",
            "Epoch 8/10\n",
            "\u001b[1m133/133\u001b[0m \u001b[32m━━━━━━━━━━━━━━━━━━━━\u001b[0m\u001b[37m\u001b[0m \u001b[1m98s\u001b[0m 736ms/step - accuracy: 1.0000 - loss: 0.0033 - val_accuracy: 0.9004 - val_loss: 0.3031\n",
            "Epoch 9/10\n",
            "\u001b[1m133/133\u001b[0m \u001b[32m━━━━━━━━━━━━━━━━━━━━\u001b[0m\u001b[37m\u001b[0m \u001b[1m96s\u001b[0m 721ms/step - accuracy: 1.0000 - loss: 0.0031 - val_accuracy: 0.9004 - val_loss: 0.3014\n",
            "Epoch 10/10\n",
            "\u001b[1m133/133\u001b[0m \u001b[32m━━━━━━━━━━━━━━━━━━━━\u001b[0m\u001b[37m\u001b[0m \u001b[1m100s\u001b[0m 754ms/step - accuracy: 1.0000 - loss: 0.0031 - val_accuracy: 0.9004 - val_loss: 0.3050\n"
          ]
        }
      ]
    },
    {
      "cell_type": "code",
      "source": [
        "import os\n",
        "import shutil\n",
        "from collections import Counter\n",
        "\n",
        "train_flat = 'train_flat'\n",
        "min_images = 15\n",
        "\n",
        "# Count images per class\n",
        "class_counts = Counter()\n",
        "for cls in os.listdir(train_flat):\n",
        "    n = len(os.listdir(os.path.join(train_flat, cls)))\n",
        "    class_counts[cls] = n\n",
        "\n",
        "# Remove rare classes\n",
        "for cls, count in class_counts.items():\n",
        "    if count < min_images:\n",
        "        shutil.rmtree(os.path.join(train_flat, cls))\n",
        "        print(f\"Removed class {cls} (only {count} images)\")"
      ],
      "metadata": {
        "colab": {
          "base_uri": "https://localhost:8080/"
        },
        "id": "NOvduMDr4H0h",
        "outputId": "69ae816e-4b46-413b-e8a3-7cc1483e1eb8"
      },
      "execution_count": 50,
      "outputs": [
        {
          "output_type": "stream",
          "name": "stdout",
          "text": [
            "Removed class Apple (only 5 images)\n",
            "Removed class Oat-Milk (only 1 images)\n",
            "Removed class Juice (only 10 images)\n",
            "Removed class Sour-Cream (only 2 images)\n",
            "Removed class Onion (only 1 images)\n",
            "Removed class Pepper (only 4 images)\n",
            "Removed class Milk (only 6 images)\n",
            "Removed class Soy-Milk (only 2 images)\n",
            "Removed class Soyghurt (only 2 images)\n",
            "Removed class Pear (only 3 images)\n",
            "Removed class Tomato (only 3 images)\n",
            "Removed class Sour-Milk (only 1 images)\n",
            "Removed class Potato (only 3 images)\n",
            "Removed class Melon (only 4 images)\n",
            "Removed class Oatghurt (only 1 images)\n",
            "Removed class Yoghurt (only 6 images)\n"
          ]
        }
      ]
    },
    {
      "cell_type": "code",
      "source": [
        "!pip install icrawler"
      ],
      "metadata": {
        "colab": {
          "base_uri": "https://localhost:8080/"
        },
        "id": "xMNpd-OB8c--",
        "outputId": "967f718a-56ed-41bd-c3bf-e48110dc542e"
      },
      "execution_count": 51,
      "outputs": [
        {
          "output_type": "stream",
          "name": "stdout",
          "text": [
            "Collecting icrawler\n",
            "  Downloading icrawler-0.6.10-py3-none-any.whl.metadata (6.2 kB)\n",
            "Requirement already satisfied: beautifulsoup4 in /usr/local/lib/python3.11/dist-packages (from icrawler) (4.13.4)\n",
            "Collecting bs4 (from icrawler)\n",
            "  Downloading bs4-0.0.2-py2.py3-none-any.whl.metadata (411 bytes)\n",
            "Requirement already satisfied: lxml in /usr/local/lib/python3.11/dist-packages (from icrawler) (5.4.0)\n",
            "Requirement already satisfied: pillow in /usr/local/lib/python3.11/dist-packages (from icrawler) (11.2.1)\n",
            "Requirement already satisfied: pyyaml in /usr/local/lib/python3.11/dist-packages (from icrawler) (6.0.2)\n",
            "Requirement already satisfied: requests in /usr/local/lib/python3.11/dist-packages (from icrawler) (2.32.3)\n",
            "Requirement already satisfied: six in /usr/local/lib/python3.11/dist-packages (from icrawler) (1.17.0)\n",
            "Requirement already satisfied: soupsieve>1.2 in /usr/local/lib/python3.11/dist-packages (from beautifulsoup4->icrawler) (2.7)\n",
            "Requirement already satisfied: typing-extensions>=4.0.0 in /usr/local/lib/python3.11/dist-packages (from beautifulsoup4->icrawler) (4.14.1)\n",
            "Requirement already satisfied: charset-normalizer<4,>=2 in /usr/local/lib/python3.11/dist-packages (from requests->icrawler) (3.4.2)\n",
            "Requirement already satisfied: idna<4,>=2.5 in /usr/local/lib/python3.11/dist-packages (from requests->icrawler) (3.10)\n",
            "Requirement already satisfied: urllib3<3,>=1.21.1 in /usr/local/lib/python3.11/dist-packages (from requests->icrawler) (2.4.0)\n",
            "Requirement already satisfied: certifi>=2017.4.17 in /usr/local/lib/python3.11/dist-packages (from requests->icrawler) (2025.7.9)\n",
            "Downloading icrawler-0.6.10-py3-none-any.whl (36 kB)\n",
            "Downloading bs4-0.0.2-py2.py3-none-any.whl (1.2 kB)\n",
            "Installing collected packages: bs4, icrawler\n",
            "Successfully installed bs4-0.0.2 icrawler-0.6.10\n"
          ]
        }
      ]
    },
    {
      "cell_type": "code",
      "source": [
        "   for product in removed_products:\n",
        "       folder = os.path.join('train_flat', product)\n",
        "       if os.path.exists(folder):\n",
        "           print(f\"{product}: {len(os.listdir(folder))} images\")\n",
        "       else:\n",
        "           print(f\"{product}: folder not found\")"
      ],
      "metadata": {
        "colab": {
          "base_uri": "https://localhost:8080/"
        },
        "id": "v0udBeWP9lwA",
        "outputId": "2b0493e5-efb7-40b1-ef46-fabb80728eb8"
      },
      "execution_count": 53,
      "outputs": [
        {
          "output_type": "stream",
          "name": "stdout",
          "text": [
            "Apple: 50 images\n",
            "Oat-Milk: 50 images\n",
            "Juice: 50 images\n",
            "Sour-Cream: 50 images\n",
            "Onion: 27 images\n",
            "Pepper: folder not found\n",
            "Milk: folder not found\n",
            "Soy-Milk: folder not found\n",
            "Soyghurt: folder not found\n",
            "Pear: folder not found\n",
            "Tomato: folder not found\n",
            "Sour-Milk: folder not found\n",
            "Potato: folder not found\n",
            "Melon: folder not found\n",
            "Oatghurt: folder not found\n",
            "Yoghurt: folder not found\n"
          ]
        }
      ]
    },
    {
      "cell_type": "code",
      "source": [
        "from tensorflow.keras.preprocessing.image import ImageDataGenerator\n",
        "\n",
        "IMG_SIZE = 224\n",
        "BATCH_SIZE = 16\n",
        "\n",
        "datagen = ImageDataGenerator(\n",
        "    rescale=1./255,\n",
        "    validation_split=0.2,\n",
        "    rotation_range=30,\n",
        "    width_shift_range=0.2,\n",
        "    height_shift_range=0.2,\n",
        "    shear_range=0.2,\n",
        "    zoom_range=0.2,\n",
        "    horizontal_flip=True,\n",
        "    brightness_range=[0.7, 1.3],\n",
        "    fill_mode='nearest'\n",
        ")\n",
        "\n",
        "train_gen = datagen.flow_from_directory(\n",
        "    'train_flat',\n",
        "    target_size=(IMG_SIZE, IMG_SIZE),\n",
        "    batch_size=BATCH_SIZE,\n",
        "    class_mode='categorical',\n",
        "    subset='training'\n",
        ")\n",
        "\n",
        "val_gen = datagen.flow_from_directory(\n",
        "    'train_flat',\n",
        "    target_size=(IMG_SIZE, IMG_SIZE),\n",
        "    batch_size=BATCH_SIZE,\n",
        "    class_mode='categorical',\n",
        "    subset='validation'\n",
        ")\n",
        "\n",
        "class_names = list(train_gen.class_indices.keys())\n",
        "print(\"Classes:\", class_names)"
      ],
      "metadata": {
        "colab": {
          "base_uri": "https://localhost:8080/"
        },
        "id": "Y_6wCJ8v9_57",
        "outputId": "5571a4f4-acd3-4b8e-8f54-b68f750c2f5b"
      },
      "execution_count": 55,
      "outputs": [
        {
          "output_type": "stream",
          "name": "stdout",
          "text": [
            "Found 937 images belonging to 32 classes.\n",
            "Found 220 images belonging to 32 classes.\n",
            "Classes: ['Apple', 'Asparagus', 'Aubergine', 'Avocado', 'Banana', 'Brown-Cap-Mushroom', 'Cabbage', 'Carrots', 'Cucumber', 'Garlic', 'Ginger', 'Juice', 'Kiwi', 'Leek', 'Lemon', 'Lime', 'Mango', 'Nectarine', 'Oat-Milk', 'Onion', 'Orange', 'Papaya', 'Passion-Fruit', 'Peach', 'Pineapple', 'Plum', 'Pomegranate', 'Red-Beet', 'Red-Grapefruit', 'Satsumas', 'Sour-Cream', 'Zucchini']\n"
          ]
        }
      ]
    },
    {
      "cell_type": "code",
      "source": [
        "from tensorflow.keras.applications import MobileNetV2\n",
        "from tensorflow.keras.models import Sequential\n",
        "from tensorflow.keras.layers import Dense, GlobalAveragePooling2D\n",
        "from tensorflow.keras.optimizers import Adam\n",
        "\n",
        "base_model = MobileNetV2(input_shape=(IMG_SIZE, IMG_SIZE, 3), include_top=False, weights='imagenet')\n",
        "base_model.trainable = False\n",
        "\n",
        "model = Sequential([\n",
        "    base_model,\n",
        "    GlobalAveragePooling2D(),\n",
        "    Dense(128, activation='relu'),\n",
        "    Dense(train_gen.num_classes, activation='softmax')\n",
        "])\n",
        "\n",
        "model.compile(\n",
        "    optimizer=Adam(),\n",
        "    loss='categorical_crossentropy',\n",
        "    metrics=['accuracy']\n",
        ")\n",
        "\n",
        "history = model.fit(\n",
        "    train_gen,\n",
        "    validation_data=val_gen,\n",
        "    epochs=20  # or more\n",
        ")"
      ],
      "metadata": {
        "colab": {
          "base_uri": "https://localhost:8080/"
        },
        "id": "8nq2WOmO-I5n",
        "outputId": "7d3f4b30-4f06-463a-dc53-a15ed87e81a7"
      },
      "execution_count": 56,
      "outputs": [
        {
          "output_type": "stream",
          "name": "stdout",
          "text": [
            "Epoch 1/20\n",
            "\u001b[1m29/59\u001b[0m \u001b[32m━━━━━━━━━\u001b[0m\u001b[37m━━━━━━━━━━━\u001b[0m \u001b[1m24s\u001b[0m 824ms/step - accuracy: 0.1923 - loss: 3.2810"
          ]
        },
        {
          "output_type": "stream",
          "name": "stderr",
          "text": [
            "/usr/local/lib/python3.11/dist-packages/PIL/Image.py:1043: UserWarning: Palette images with Transparency expressed in bytes should be converted to RGBA images\n",
            "  warnings.warn(\n"
          ]
        },
        {
          "output_type": "stream",
          "name": "stdout",
          "text": [
            "\u001b[1m59/59\u001b[0m \u001b[32m━━━━━━━━━━━━━━━━━━━━\u001b[0m\u001b[37m\u001b[0m \u001b[1m79s\u001b[0m 1s/step - accuracy: 0.3012 - loss: 2.8213 - val_accuracy: 0.7364 - val_loss: 0.9586\n",
            "Epoch 2/20\n",
            "\u001b[1m59/59\u001b[0m \u001b[32m━━━━━━━━━━━━━━━━━━━━\u001b[0m\u001b[37m\u001b[0m \u001b[1m69s\u001b[0m 1s/step - accuracy: 0.8116 - loss: 0.7379 - val_accuracy: 0.8545 - val_loss: 0.5472\n",
            "Epoch 3/20\n",
            "\u001b[1m59/59\u001b[0m \u001b[32m━━━━━━━━━━━━━━━━━━━━\u001b[0m\u001b[37m\u001b[0m \u001b[1m60s\u001b[0m 1s/step - accuracy: 0.8801 - loss: 0.4124 - val_accuracy: 0.8545 - val_loss: 0.4051\n",
            "Epoch 4/20\n",
            "\u001b[1m59/59\u001b[0m \u001b[32m━━━━━━━━━━━━━━━━━━━━\u001b[0m\u001b[37m\u001b[0m \u001b[1m69s\u001b[0m 1s/step - accuracy: 0.9307 - loss: 0.2600 - val_accuracy: 0.8636 - val_loss: 0.3650\n",
            "Epoch 5/20\n",
            "\u001b[1m59/59\u001b[0m \u001b[32m━━━━━━━━━━━━━━━━━━━━\u001b[0m\u001b[37m\u001b[0m \u001b[1m60s\u001b[0m 1s/step - accuracy: 0.9595 - loss: 0.1710 - val_accuracy: 0.9364 - val_loss: 0.2280\n",
            "Epoch 6/20\n",
            "\u001b[1m59/59\u001b[0m \u001b[32m━━━━━━━━━━━━━━━━━━━━\u001b[0m\u001b[37m\u001b[0m \u001b[1m60s\u001b[0m 1s/step - accuracy: 0.9462 - loss: 0.1904 - val_accuracy: 0.8909 - val_loss: 0.3324\n",
            "Epoch 7/20\n",
            "\u001b[1m59/59\u001b[0m \u001b[32m━━━━━━━━━━━━━━━━━━━━\u001b[0m\u001b[37m\u001b[0m \u001b[1m70s\u001b[0m 1s/step - accuracy: 0.9750 - loss: 0.1367 - val_accuracy: 0.9273 - val_loss: 0.2268\n",
            "Epoch 8/20\n",
            "\u001b[1m59/59\u001b[0m \u001b[32m━━━━━━━━━━━━━━━━━━━━\u001b[0m\u001b[37m\u001b[0m \u001b[1m70s\u001b[0m 1s/step - accuracy: 0.9658 - loss: 0.1152 - val_accuracy: 0.9318 - val_loss: 0.2189\n",
            "Epoch 9/20\n",
            "\u001b[1m59/59\u001b[0m \u001b[32m━━━━━━━━━━━━━━━━━━━━\u001b[0m\u001b[37m\u001b[0m \u001b[1m73s\u001b[0m 1s/step - accuracy: 0.9733 - loss: 0.0969 - val_accuracy: 0.8818 - val_loss: 0.3361\n",
            "Epoch 10/20\n",
            "\u001b[1m59/59\u001b[0m \u001b[32m━━━━━━━━━━━━━━━━━━━━\u001b[0m\u001b[37m\u001b[0m \u001b[1m80s\u001b[0m 1s/step - accuracy: 0.9747 - loss: 0.0887 - val_accuracy: 0.9227 - val_loss: 0.2014\n",
            "Epoch 11/20\n",
            "\u001b[1m59/59\u001b[0m \u001b[32m━━━━━━━━━━━━━━━━━━━━\u001b[0m\u001b[37m\u001b[0m \u001b[1m61s\u001b[0m 1s/step - accuracy: 0.9712 - loss: 0.0975 - val_accuracy: 0.9045 - val_loss: 0.2485\n",
            "Epoch 12/20\n",
            "\u001b[1m59/59\u001b[0m \u001b[32m━━━━━━━━━━━━━━━━━━━━\u001b[0m\u001b[37m\u001b[0m \u001b[1m60s\u001b[0m 1s/step - accuracy: 0.9699 - loss: 0.0923 - val_accuracy: 0.9273 - val_loss: 0.2079\n",
            "Epoch 13/20\n",
            "\u001b[1m59/59\u001b[0m \u001b[32m━━━━━━━━━━━━━━━━━━━━\u001b[0m\u001b[37m\u001b[0m \u001b[1m92s\u001b[0m 1s/step - accuracy: 0.9840 - loss: 0.0607 - val_accuracy: 0.9227 - val_loss: 0.2191\n",
            "Epoch 14/20\n",
            "\u001b[1m59/59\u001b[0m \u001b[32m━━━━━━━━━━━━━━━━━━━━\u001b[0m\u001b[37m\u001b[0m \u001b[1m61s\u001b[0m 1s/step - accuracy: 0.9854 - loss: 0.0574 - val_accuracy: 0.9182 - val_loss: 0.2216\n",
            "Epoch 15/20\n",
            "\u001b[1m59/59\u001b[0m \u001b[32m━━━━━━━━━━━━━━━━━━━━\u001b[0m\u001b[37m\u001b[0m \u001b[1m60s\u001b[0m 1s/step - accuracy: 0.9673 - loss: 0.0837 - val_accuracy: 0.9409 - val_loss: 0.1747\n",
            "Epoch 16/20\n",
            "\u001b[1m59/59\u001b[0m \u001b[32m━━━━━━━━━━━━━━━━━━━━\u001b[0m\u001b[37m\u001b[0m \u001b[1m70s\u001b[0m 1s/step - accuracy: 0.9827 - loss: 0.0606 - val_accuracy: 0.9364 - val_loss: 0.2078\n",
            "Epoch 17/20\n",
            "\u001b[1m59/59\u001b[0m \u001b[32m━━━━━━━━━━━━━━━━━━━━\u001b[0m\u001b[37m\u001b[0m \u001b[1m70s\u001b[0m 1s/step - accuracy: 0.9847 - loss: 0.0505 - val_accuracy: 0.9455 - val_loss: 0.1492\n",
            "Epoch 18/20\n",
            "\u001b[1m59/59\u001b[0m \u001b[32m━━━━━━━━━━━━━━━━━━━━\u001b[0m\u001b[37m\u001b[0m \u001b[1m71s\u001b[0m 1s/step - accuracy: 0.9837 - loss: 0.0405 - val_accuracy: 0.9091 - val_loss: 0.2511\n",
            "Epoch 19/20\n",
            "\u001b[1m59/59\u001b[0m \u001b[32m━━━━━━━━━━━━━━━━━━━━\u001b[0m\u001b[37m\u001b[0m \u001b[1m59s\u001b[0m 1s/step - accuracy: 0.9832 - loss: 0.0511 - val_accuracy: 0.9091 - val_loss: 0.3050\n",
            "Epoch 20/20\n",
            "\u001b[1m59/59\u001b[0m \u001b[32m━━━━━━━━━━━━━━━━━━━━\u001b[0m\u001b[37m\u001b[0m \u001b[1m63s\u001b[0m 1s/step - accuracy: 0.9857 - loss: 0.0577 - val_accuracy: 0.9136 - val_loss: 0.2321\n"
          ]
        }
      ]
    },
    {
      "cell_type": "code",
      "source": [
        "!pip install gradio tensorflow pillow"
      ],
      "metadata": {
        "colab": {
          "base_uri": "https://localhost:8080/"
        },
        "collapsed": true,
        "id": "t5WXcsPtDO4s",
        "outputId": "fd167034-242b-4ae4-9518-adbea95244f9"
      },
      "execution_count": 57,
      "outputs": [
        {
          "output_type": "stream",
          "name": "stdout",
          "text": [
            "Requirement already satisfied: gradio in /usr/local/lib/python3.11/dist-packages (5.31.0)\n",
            "Requirement already satisfied: tensorflow in /usr/local/lib/python3.11/dist-packages (2.18.0)\n",
            "Requirement already satisfied: pillow in /usr/local/lib/python3.11/dist-packages (11.2.1)\n",
            "Requirement already satisfied: aiofiles<25.0,>=22.0 in /usr/local/lib/python3.11/dist-packages (from gradio) (24.1.0)\n",
            "Requirement already satisfied: anyio<5.0,>=3.0 in /usr/local/lib/python3.11/dist-packages (from gradio) (4.9.0)\n",
            "Requirement already satisfied: fastapi<1.0,>=0.115.2 in /usr/local/lib/python3.11/dist-packages (from gradio) (0.116.0)\n",
            "Requirement already satisfied: ffmpy in /usr/local/lib/python3.11/dist-packages (from gradio) (0.6.0)\n",
            "Requirement already satisfied: gradio-client==1.10.1 in /usr/local/lib/python3.11/dist-packages (from gradio) (1.10.1)\n",
            "Requirement already satisfied: groovy~=0.1 in /usr/local/lib/python3.11/dist-packages (from gradio) (0.1.2)\n",
            "Requirement already satisfied: httpx>=0.24.1 in /usr/local/lib/python3.11/dist-packages (from gradio) (0.28.1)\n",
            "Requirement already satisfied: huggingface-hub>=0.28.1 in /usr/local/lib/python3.11/dist-packages (from gradio) (0.33.2)\n",
            "Requirement already satisfied: jinja2<4.0 in /usr/local/lib/python3.11/dist-packages (from gradio) (3.1.6)\n",
            "Requirement already satisfied: markupsafe<4.0,>=2.0 in /usr/local/lib/python3.11/dist-packages (from gradio) (3.0.2)\n",
            "Requirement already satisfied: numpy<3.0,>=1.0 in /usr/local/lib/python3.11/dist-packages (from gradio) (2.0.2)\n",
            "Requirement already satisfied: orjson~=3.0 in /usr/local/lib/python3.11/dist-packages (from gradio) (3.10.18)\n",
            "Requirement already satisfied: packaging in /usr/local/lib/python3.11/dist-packages (from gradio) (24.2)\n",
            "Requirement already satisfied: pandas<3.0,>=1.0 in /usr/local/lib/python3.11/dist-packages (from gradio) (2.2.2)\n",
            "Requirement already satisfied: pydantic<2.12,>=2.0 in /usr/local/lib/python3.11/dist-packages (from gradio) (2.11.7)\n",
            "Requirement already satisfied: pydub in /usr/local/lib/python3.11/dist-packages (from gradio) (0.25.1)\n",
            "Requirement already satisfied: python-multipart>=0.0.18 in /usr/local/lib/python3.11/dist-packages (from gradio) (0.0.20)\n",
            "Requirement already satisfied: pyyaml<7.0,>=5.0 in /usr/local/lib/python3.11/dist-packages (from gradio) (6.0.2)\n",
            "Requirement already satisfied: ruff>=0.9.3 in /usr/local/lib/python3.11/dist-packages (from gradio) (0.12.2)\n",
            "Requirement already satisfied: safehttpx<0.2.0,>=0.1.6 in /usr/local/lib/python3.11/dist-packages (from gradio) (0.1.6)\n",
            "Requirement already satisfied: semantic-version~=2.0 in /usr/local/lib/python3.11/dist-packages (from gradio) (2.10.0)\n",
            "Requirement already satisfied: starlette<1.0,>=0.40.0 in /usr/local/lib/python3.11/dist-packages (from gradio) (0.46.2)\n",
            "Requirement already satisfied: tomlkit<0.14.0,>=0.12.0 in /usr/local/lib/python3.11/dist-packages (from gradio) (0.13.3)\n",
            "Requirement already satisfied: typer<1.0,>=0.12 in /usr/local/lib/python3.11/dist-packages (from gradio) (0.16.0)\n",
            "Requirement already satisfied: typing-extensions~=4.0 in /usr/local/lib/python3.11/dist-packages (from gradio) (4.14.1)\n",
            "Requirement already satisfied: uvicorn>=0.14.0 in /usr/local/lib/python3.11/dist-packages (from gradio) (0.35.0)\n",
            "Requirement already satisfied: fsspec in /usr/local/lib/python3.11/dist-packages (from gradio-client==1.10.1->gradio) (2025.3.2)\n",
            "Requirement already satisfied: websockets<16.0,>=10.0 in /usr/local/lib/python3.11/dist-packages (from gradio-client==1.10.1->gradio) (15.0.1)\n",
            "Requirement already satisfied: absl-py>=1.0.0 in /usr/local/lib/python3.11/dist-packages (from tensorflow) (1.4.0)\n",
            "Requirement already satisfied: astunparse>=1.6.0 in /usr/local/lib/python3.11/dist-packages (from tensorflow) (1.6.3)\n",
            "Requirement already satisfied: flatbuffers>=24.3.25 in /usr/local/lib/python3.11/dist-packages (from tensorflow) (25.2.10)\n",
            "Requirement already satisfied: gast!=0.5.0,!=0.5.1,!=0.5.2,>=0.2.1 in /usr/local/lib/python3.11/dist-packages (from tensorflow) (0.6.0)\n",
            "Requirement already satisfied: google-pasta>=0.1.1 in /usr/local/lib/python3.11/dist-packages (from tensorflow) (0.2.0)\n",
            "Requirement already satisfied: libclang>=13.0.0 in /usr/local/lib/python3.11/dist-packages (from tensorflow) (18.1.1)\n",
            "Requirement already satisfied: opt-einsum>=2.3.2 in /usr/local/lib/python3.11/dist-packages (from tensorflow) (3.4.0)\n",
            "Requirement already satisfied: protobuf!=4.21.0,!=4.21.1,!=4.21.2,!=4.21.3,!=4.21.4,!=4.21.5,<6.0.0dev,>=3.20.3 in /usr/local/lib/python3.11/dist-packages (from tensorflow) (5.29.5)\n",
            "Requirement already satisfied: requests<3,>=2.21.0 in /usr/local/lib/python3.11/dist-packages (from tensorflow) (2.32.3)\n",
            "Requirement already satisfied: setuptools in /usr/local/lib/python3.11/dist-packages (from tensorflow) (75.2.0)\n",
            "Requirement already satisfied: six>=1.12.0 in /usr/local/lib/python3.11/dist-packages (from tensorflow) (1.17.0)\n",
            "Requirement already satisfied: termcolor>=1.1.0 in /usr/local/lib/python3.11/dist-packages (from tensorflow) (3.1.0)\n",
            "Requirement already satisfied: wrapt>=1.11.0 in /usr/local/lib/python3.11/dist-packages (from tensorflow) (1.17.2)\n",
            "Requirement already satisfied: grpcio<2.0,>=1.24.3 in /usr/local/lib/python3.11/dist-packages (from tensorflow) (1.73.1)\n",
            "Requirement already satisfied: tensorboard<2.19,>=2.18 in /usr/local/lib/python3.11/dist-packages (from tensorflow) (2.18.0)\n",
            "Requirement already satisfied: keras>=3.5.0 in /usr/local/lib/python3.11/dist-packages (from tensorflow) (3.8.0)\n",
            "Requirement already satisfied: h5py>=3.11.0 in /usr/local/lib/python3.11/dist-packages (from tensorflow) (3.14.0)\n",
            "Requirement already satisfied: ml-dtypes<0.5.0,>=0.4.0 in /usr/local/lib/python3.11/dist-packages (from tensorflow) (0.4.1)\n",
            "Requirement already satisfied: tensorflow-io-gcs-filesystem>=0.23.1 in /usr/local/lib/python3.11/dist-packages (from tensorflow) (0.37.1)\n",
            "Requirement already satisfied: idna>=2.8 in /usr/local/lib/python3.11/dist-packages (from anyio<5.0,>=3.0->gradio) (3.10)\n",
            "Requirement already satisfied: sniffio>=1.1 in /usr/local/lib/python3.11/dist-packages (from anyio<5.0,>=3.0->gradio) (1.3.1)\n",
            "Requirement already satisfied: wheel<1.0,>=0.23.0 in /usr/local/lib/python3.11/dist-packages (from astunparse>=1.6.0->tensorflow) (0.45.1)\n",
            "Requirement already satisfied: certifi in /usr/local/lib/python3.11/dist-packages (from httpx>=0.24.1->gradio) (2025.7.9)\n",
            "Requirement already satisfied: httpcore==1.* in /usr/local/lib/python3.11/dist-packages (from httpx>=0.24.1->gradio) (1.0.9)\n",
            "Requirement already satisfied: h11>=0.16 in /usr/local/lib/python3.11/dist-packages (from httpcore==1.*->httpx>=0.24.1->gradio) (0.16.0)\n",
            "Requirement already satisfied: filelock in /usr/local/lib/python3.11/dist-packages (from huggingface-hub>=0.28.1->gradio) (3.18.0)\n",
            "Requirement already satisfied: tqdm>=4.42.1 in /usr/local/lib/python3.11/dist-packages (from huggingface-hub>=0.28.1->gradio) (4.67.1)\n",
            "Requirement already satisfied: hf-xet<2.0.0,>=1.1.2 in /usr/local/lib/python3.11/dist-packages (from huggingface-hub>=0.28.1->gradio) (1.1.5)\n",
            "Requirement already satisfied: rich in /usr/local/lib/python3.11/dist-packages (from keras>=3.5.0->tensorflow) (13.9.4)\n",
            "Requirement already satisfied: namex in /usr/local/lib/python3.11/dist-packages (from keras>=3.5.0->tensorflow) (0.1.0)\n",
            "Requirement already satisfied: optree in /usr/local/lib/python3.11/dist-packages (from keras>=3.5.0->tensorflow) (0.16.0)\n",
            "Requirement already satisfied: python-dateutil>=2.8.2 in /usr/local/lib/python3.11/dist-packages (from pandas<3.0,>=1.0->gradio) (2.9.0.post0)\n",
            "Requirement already satisfied: pytz>=2020.1 in /usr/local/lib/python3.11/dist-packages (from pandas<3.0,>=1.0->gradio) (2025.2)\n",
            "Requirement already satisfied: tzdata>=2022.7 in /usr/local/lib/python3.11/dist-packages (from pandas<3.0,>=1.0->gradio) (2025.2)\n",
            "Requirement already satisfied: annotated-types>=0.6.0 in /usr/local/lib/python3.11/dist-packages (from pydantic<2.12,>=2.0->gradio) (0.7.0)\n",
            "Requirement already satisfied: pydantic-core==2.33.2 in /usr/local/lib/python3.11/dist-packages (from pydantic<2.12,>=2.0->gradio) (2.33.2)\n",
            "Requirement already satisfied: typing-inspection>=0.4.0 in /usr/local/lib/python3.11/dist-packages (from pydantic<2.12,>=2.0->gradio) (0.4.1)\n",
            "Requirement already satisfied: charset-normalizer<4,>=2 in /usr/local/lib/python3.11/dist-packages (from requests<3,>=2.21.0->tensorflow) (3.4.2)\n",
            "Requirement already satisfied: urllib3<3,>=1.21.1 in /usr/local/lib/python3.11/dist-packages (from requests<3,>=2.21.0->tensorflow) (2.4.0)\n",
            "Requirement already satisfied: markdown>=2.6.8 in /usr/local/lib/python3.11/dist-packages (from tensorboard<2.19,>=2.18->tensorflow) (3.8.2)\n",
            "Requirement already satisfied: tensorboard-data-server<0.8.0,>=0.7.0 in /usr/local/lib/python3.11/dist-packages (from tensorboard<2.19,>=2.18->tensorflow) (0.7.2)\n",
            "Requirement already satisfied: werkzeug>=1.0.1 in /usr/local/lib/python3.11/dist-packages (from tensorboard<2.19,>=2.18->tensorflow) (3.1.3)\n",
            "Requirement already satisfied: click>=8.0.0 in /usr/local/lib/python3.11/dist-packages (from typer<1.0,>=0.12->gradio) (8.2.1)\n",
            "Requirement already satisfied: shellingham>=1.3.0 in /usr/local/lib/python3.11/dist-packages (from typer<1.0,>=0.12->gradio) (1.5.4)\n",
            "Requirement already satisfied: markdown-it-py>=2.2.0 in /usr/local/lib/python3.11/dist-packages (from rich->keras>=3.5.0->tensorflow) (3.0.0)\n",
            "Requirement already satisfied: pygments<3.0.0,>=2.13.0 in /usr/local/lib/python3.11/dist-packages (from rich->keras>=3.5.0->tensorflow) (2.19.2)\n",
            "Requirement already satisfied: mdurl~=0.1 in /usr/local/lib/python3.11/dist-packages (from markdown-it-py>=2.2.0->rich->keras>=3.5.0->tensorflow) (0.1.2)\n"
          ]
        }
      ]
    },
    {
      "cell_type": "code",
      "source": [
        "model.save('product_classifier.h5')"
      ],
      "metadata": {
        "colab": {
          "base_uri": "https://localhost:8080/"
        },
        "id": "BxnysvH_D6x6",
        "outputId": "eda574c5-47a2-4a78-93ed-f076aabeaa08"
      },
      "execution_count": 59,
      "outputs": [
        {
          "output_type": "stream",
          "name": "stderr",
          "text": [
            "WARNING:absl:You are saving your model as an HDF5 file via `model.save()` or `keras.saving.save_model(model)`. This file format is considered legacy. We recommend using instead the native Keras format, e.g. `model.save('my_model.keras')` or `keras.saving.save_model(model, 'my_model.keras')`. \n"
          ]
        }
      ]
    },
    {
      "cell_type": "code",
      "source": [
        "  import os\n",
        "  print(os.listdir())"
      ],
      "metadata": {
        "colab": {
          "base_uri": "https://localhost:8080/"
        },
        "id": "x2SNZuGPD9jK",
        "outputId": "d7fd8ea8-f934-44c5-c938-5b29772dc624"
      },
      "execution_count": 60,
      "outputs": [
        {
          "output_type": "stream",
          "name": "stdout",
          "text": [
            "['.config', 'product-prices-and-sizes-from-walmart-grocery.zip', 'grocery-store-dataset.zip', 'grocery_images', 'kaggle (1).json', 'product_classifier.keras', 'product-prices-and-sizes', 'product_classifier.h5', 'train_flat', 'sample_data']\n"
          ]
        }
      ]
    },
    {
      "cell_type": "code",
      "source": [
        "model = tf.keras.models.load_model('product_classifier.h5')"
      ],
      "metadata": {
        "colab": {
          "base_uri": "https://localhost:8080/"
        },
        "id": "vOEB6huTENRb",
        "outputId": "5f0b4858-c74e-4558-834d-3c3db7c5e7b0"
      },
      "execution_count": 61,
      "outputs": [
        {
          "output_type": "stream",
          "name": "stderr",
          "text": [
            "WARNING:absl:Compiled the loaded model, but the compiled metrics have yet to be built. `model.compile_metrics` will be empty until you train or evaluate the model.\n"
          ]
        }
      ]
    },
    {
      "cell_type": "code",
      "source": [
        "model = tf.keras.models.load_model('product_classifier.keras')"
      ],
      "metadata": {
        "id": "xWvG-TisEPl4"
      },
      "execution_count": 62,
      "outputs": []
    },
    {
      "cell_type": "code",
      "source": [
        "!pip install --upgrade gradio"
      ],
      "metadata": {
        "colab": {
          "base_uri": "https://localhost:8080/"
        },
        "id": "VdhzxPgeEnJT",
        "outputId": "13de0381-f701-457a-c265-61b83d546e7c"
      },
      "execution_count": 5,
      "outputs": [
        {
          "output_type": "stream",
          "name": "stdout",
          "text": [
            "Requirement already satisfied: gradio in /usr/local/lib/python3.11/dist-packages (5.36.2)\n",
            "Requirement already satisfied: aiofiles<25.0,>=22.0 in /usr/local/lib/python3.11/dist-packages (from gradio) (24.1.0)\n",
            "Requirement already satisfied: anyio<5.0,>=3.0 in /usr/local/lib/python3.11/dist-packages (from gradio) (4.9.0)\n",
            "Requirement already satisfied: brotli>=1.1.0 in /usr/local/lib/python3.11/dist-packages (from gradio) (1.1.0)\n",
            "Requirement already satisfied: fastapi<1.0,>=0.115.2 in /usr/local/lib/python3.11/dist-packages (from gradio) (0.116.0)\n",
            "Requirement already satisfied: ffmpy in /usr/local/lib/python3.11/dist-packages (from gradio) (0.6.0)\n",
            "Requirement already satisfied: gradio-client==1.10.4 in /usr/local/lib/python3.11/dist-packages (from gradio) (1.10.4)\n",
            "Requirement already satisfied: groovy~=0.1 in /usr/local/lib/python3.11/dist-packages (from gradio) (0.1.2)\n",
            "Requirement already satisfied: httpx<1.0,>=0.24.1 in /usr/local/lib/python3.11/dist-packages (from gradio) (0.28.1)\n",
            "Requirement already satisfied: huggingface-hub>=0.28.1 in /usr/local/lib/python3.11/dist-packages (from gradio) (0.33.2)\n",
            "Requirement already satisfied: jinja2<4.0 in /usr/local/lib/python3.11/dist-packages (from gradio) (3.1.6)\n",
            "Requirement already satisfied: markupsafe<4.0,>=2.0 in /usr/local/lib/python3.11/dist-packages (from gradio) (3.0.2)\n",
            "Requirement already satisfied: numpy<3.0,>=1.0 in /usr/local/lib/python3.11/dist-packages (from gradio) (2.0.2)\n",
            "Requirement already satisfied: orjson~=3.0 in /usr/local/lib/python3.11/dist-packages (from gradio) (3.10.18)\n",
            "Requirement already satisfied: packaging in /usr/local/lib/python3.11/dist-packages (from gradio) (24.2)\n",
            "Requirement already satisfied: pandas<3.0,>=1.0 in /usr/local/lib/python3.11/dist-packages (from gradio) (2.2.2)\n",
            "Requirement already satisfied: pillow<12.0,>=8.0 in /usr/local/lib/python3.11/dist-packages (from gradio) (11.2.1)\n",
            "Requirement already satisfied: pydantic<2.12,>=2.0 in /usr/local/lib/python3.11/dist-packages (from gradio) (2.11.7)\n",
            "Requirement already satisfied: pydub in /usr/local/lib/python3.11/dist-packages (from gradio) (0.25.1)\n",
            "Requirement already satisfied: python-multipart>=0.0.18 in /usr/local/lib/python3.11/dist-packages (from gradio) (0.0.20)\n",
            "Requirement already satisfied: pyyaml<7.0,>=5.0 in /usr/local/lib/python3.11/dist-packages (from gradio) (6.0.2)\n",
            "Requirement already satisfied: ruff>=0.9.3 in /usr/local/lib/python3.11/dist-packages (from gradio) (0.12.2)\n",
            "Requirement already satisfied: safehttpx<0.2.0,>=0.1.6 in /usr/local/lib/python3.11/dist-packages (from gradio) (0.1.6)\n",
            "Requirement already satisfied: semantic-version~=2.0 in /usr/local/lib/python3.11/dist-packages (from gradio) (2.10.0)\n",
            "Requirement already satisfied: starlette<1.0,>=0.40.0 in /usr/local/lib/python3.11/dist-packages (from gradio) (0.46.2)\n",
            "Requirement already satisfied: tomlkit<0.14.0,>=0.12.0 in /usr/local/lib/python3.11/dist-packages (from gradio) (0.13.3)\n",
            "Requirement already satisfied: typer<1.0,>=0.12 in /usr/local/lib/python3.11/dist-packages (from gradio) (0.16.0)\n",
            "Requirement already satisfied: typing-extensions~=4.0 in /usr/local/lib/python3.11/dist-packages (from gradio) (4.14.1)\n",
            "Requirement already satisfied: uvicorn>=0.14.0 in /usr/local/lib/python3.11/dist-packages (from gradio) (0.35.0)\n",
            "Requirement already satisfied: fsspec in /usr/local/lib/python3.11/dist-packages (from gradio-client==1.10.4->gradio) (2025.3.2)\n",
            "Requirement already satisfied: websockets<16.0,>=10.0 in /usr/local/lib/python3.11/dist-packages (from gradio-client==1.10.4->gradio) (15.0.1)\n",
            "Requirement already satisfied: idna>=2.8 in /usr/local/lib/python3.11/dist-packages (from anyio<5.0,>=3.0->gradio) (3.10)\n",
            "Requirement already satisfied: sniffio>=1.1 in /usr/local/lib/python3.11/dist-packages (from anyio<5.0,>=3.0->gradio) (1.3.1)\n",
            "Requirement already satisfied: certifi in /usr/local/lib/python3.11/dist-packages (from httpx<1.0,>=0.24.1->gradio) (2025.7.9)\n",
            "Requirement already satisfied: httpcore==1.* in /usr/local/lib/python3.11/dist-packages (from httpx<1.0,>=0.24.1->gradio) (1.0.9)\n",
            "Requirement already satisfied: h11>=0.16 in /usr/local/lib/python3.11/dist-packages (from httpcore==1.*->httpx<1.0,>=0.24.1->gradio) (0.16.0)\n",
            "Requirement already satisfied: filelock in /usr/local/lib/python3.11/dist-packages (from huggingface-hub>=0.28.1->gradio) (3.18.0)\n",
            "Requirement already satisfied: requests in /usr/local/lib/python3.11/dist-packages (from huggingface-hub>=0.28.1->gradio) (2.32.3)\n",
            "Requirement already satisfied: tqdm>=4.42.1 in /usr/local/lib/python3.11/dist-packages (from huggingface-hub>=0.28.1->gradio) (4.67.1)\n",
            "Requirement already satisfied: hf-xet<2.0.0,>=1.1.2 in /usr/local/lib/python3.11/dist-packages (from huggingface-hub>=0.28.1->gradio) (1.1.5)\n",
            "Requirement already satisfied: python-dateutil>=2.8.2 in /usr/local/lib/python3.11/dist-packages (from pandas<3.0,>=1.0->gradio) (2.9.0.post0)\n",
            "Requirement already satisfied: pytz>=2020.1 in /usr/local/lib/python3.11/dist-packages (from pandas<3.0,>=1.0->gradio) (2025.2)\n",
            "Requirement already satisfied: tzdata>=2022.7 in /usr/local/lib/python3.11/dist-packages (from pandas<3.0,>=1.0->gradio) (2025.2)\n",
            "Requirement already satisfied: annotated-types>=0.6.0 in /usr/local/lib/python3.11/dist-packages (from pydantic<2.12,>=2.0->gradio) (0.7.0)\n",
            "Requirement already satisfied: pydantic-core==2.33.2 in /usr/local/lib/python3.11/dist-packages (from pydantic<2.12,>=2.0->gradio) (2.33.2)\n",
            "Requirement already satisfied: typing-inspection>=0.4.0 in /usr/local/lib/python3.11/dist-packages (from pydantic<2.12,>=2.0->gradio) (0.4.1)\n",
            "Requirement already satisfied: click>=8.0.0 in /usr/local/lib/python3.11/dist-packages (from typer<1.0,>=0.12->gradio) (8.2.1)\n",
            "Requirement already satisfied: shellingham>=1.3.0 in /usr/local/lib/python3.11/dist-packages (from typer<1.0,>=0.12->gradio) (1.5.4)\n",
            "Requirement already satisfied: rich>=10.11.0 in /usr/local/lib/python3.11/dist-packages (from typer<1.0,>=0.12->gradio) (13.9.4)\n",
            "Requirement already satisfied: six>=1.5 in /usr/local/lib/python3.11/dist-packages (from python-dateutil>=2.8.2->pandas<3.0,>=1.0->gradio) (1.17.0)\n",
            "Requirement already satisfied: markdown-it-py>=2.2.0 in /usr/local/lib/python3.11/dist-packages (from rich>=10.11.0->typer<1.0,>=0.12->gradio) (3.0.0)\n",
            "Requirement already satisfied: pygments<3.0.0,>=2.13.0 in /usr/local/lib/python3.11/dist-packages (from rich>=10.11.0->typer<1.0,>=0.12->gradio) (2.19.2)\n",
            "Requirement already satisfied: charset-normalizer<4,>=2 in /usr/local/lib/python3.11/dist-packages (from requests->huggingface-hub>=0.28.1->gradio) (3.4.2)\n",
            "Requirement already satisfied: urllib3<3,>=1.21.1 in /usr/local/lib/python3.11/dist-packages (from requests->huggingface-hub>=0.28.1->gradio) (2.4.0)\n",
            "Requirement already satisfied: mdurl~=0.1 in /usr/local/lib/python3.11/dist-packages (from markdown-it-py>=2.2.0->rich>=10.11.0->typer<1.0,>=0.12->gradio) (0.1.2)\n"
          ]
        }
      ]
    },
    {
      "cell_type": "code",
      "source": [
        "import gradio as gr\n",
        "import tensorflow as tf\n",
        "import numpy as np\n",
        "from PIL import Image\n",
        "import os\n",
        "import random\n",
        "\n",
        "# Load your trained model\n",
        "model = tf.keras.models.load_model('product_classifier.h5')\n",
        "\n",
        "# Automatically get class names from your training folder\n",
        "class_names = sorted([d for d in os.listdir('train_flat') if os.path.isdir(os.path.join('train_flat', d))])\n",
        "\n",
        "# Assign unique prices for each product (edit as needed)\n",
        "product_prices = {\n",
        "    'Apple': 0.99,\n",
        "    'Banana': 0.59,\n",
        "    'Orange': 0.89,\n",
        "    'Oat-Milk': 2.49,\n",
        "    'Juice': 1.79,\n",
        "    'Sour-Cream': 1.29,\n",
        "    # Add all your classes with their real/demo prices\n",
        "}\n",
        "# For any class not in the dict, assign a random price (for demo)\n",
        "for cls in class_names:\n",
        "    if cls not in product_prices:\n",
        "        product_prices[cls] = round(random.uniform(0.5, 5.0), 2)\n",
        "\n",
        "def predict_and_add(img, cart, total):\n",
        "    img = img.convert('RGB').resize((224, 224))\n",
        "    img_array = np.array(img) / 255.0\n",
        "    img_array = np.expand_dims(img_array, axis=0)\n",
        "    pred = model.predict(img_array, verbose=0)\n",
        "    pred_class = class_names[np.argmax(pred)]\n",
        "    price = product_prices.get(pred_class, 1.99)\n",
        "    cart.append((pred_class, price))\n",
        "    total += price\n",
        "    cart_display = \"\".join([\n",
        "        f\"<div style='display:flex;align-items:center;margin-bottom:6px;'>\"\n",
        "        f\"<span style='font-weight:bold;color:#ff6600;margin-right:10px;'>{item[0]}</span>\"\n",
        "        f\"<span style='color:#333;'>${item[1]:.2f}</span></div>\"\n",
        "        for item in cart\n",
        "    ])\n",
        "    total_items = len(cart)\n",
        "    return (\n",
        "        None,  # Clear image input\n",
        "        pred_class, pred_class, f\"${price:.2f}\",\n",
        "        gr.update(value=cart_display, visible=True),\n",
        "        f\"{total_items}\", f\"${total:.2f}\", cart, total\n",
        "    )\n",
        "\n",
        "def remove_last(cart, total):\n",
        "    if cart:\n",
        "        removed = cart.pop()\n",
        "        total -= removed[1]\n",
        "    cart_display = \"\".join([\n",
        "        f\"<div style='display:flex;align-items:center;margin-bottom:6px;'>\"\n",
        "        f\"<span style='font-weight:bold;color:#ff6600;margin-right:10px;'>{item[0]}</span>\"\n",
        "        f\"<span style='color:#333;'>${item[1]:.2f}</span></div>\"\n",
        "        for item in cart\n",
        "    ])\n",
        "    total_items = len(cart)\n",
        "    return (\n",
        "        None,  # Clear image input\n",
        "        \"\", \"\", \"\",  # Clear product, pred_class, price\n",
        "        gr.update(value=cart_display, visible=True),\n",
        "        f\"{total_items}\", f\"${total:.2f}\", cart, total\n",
        "    )\n",
        "\n",
        "with gr.Blocks(theme=gr.themes.Soft(primary_hue=\"orange\", secondary_hue=\"green\")) as demo:\n",
        "    gr.Markdown(\"\"\"\n",
        "    <h1 style='text-align:center;color:#ff6600;'>🛒 Smart Shopping Cart</h1>\n",
        "    <p style='text-align:center;font-size:18px;'>Scan a product with your webcam or upload an image.<br>\n",
        "    The product and price will be added to your cart automatically!</p>\n",
        "    \"\"\")\n",
        "    with gr.Row():\n",
        "        with gr.Column():\n",
        "            image_input = gr.Image(\n",
        "                type=\"pil\",\n",
        "                label=\"Take a photo or upload\",\n",
        "                elem_id=\"input-img\"\n",
        "            )\n",
        "            btn = gr.Button(\"➕ Add to Cart\", elem_id=\"add-btn\", scale=2)\n",
        "            remove_btn = gr.Button(\"🗑️ Remove Last Item\", elem_id=\"remove-btn\", scale=1)\n",
        "        with gr.Column():\n",
        "            product = gr.Textbox(label=\"Product\", interactive=False)\n",
        "            pred_class = gr.Textbox(label=\"Predicted Class\", interactive=False)\n",
        "            price = gr.Textbox(label=\"Price\", interactive=False)\n",
        "    gr.Markdown(\"<hr>\")\n",
        "    gr.Markdown(\"<h3 style='color:#ff6600;'>🛍️ Cart</h3>\")\n",
        "    cart_box = gr.HTML(label=\"Cart\", elem_id=\"cart-box\")\n",
        "    total_items_box = gr.Textbox(label=\"Total Items\", interactive=False)\n",
        "    total_box = gr.Textbox(label=\"Total Bill\", interactive=False)\n",
        "    state_cart = gr.State([])\n",
        "    state_total = gr.State(0.0)\n",
        "    btn.click(\n",
        "        predict_and_add,\n",
        "        inputs=[image_input, state_cart, state_total],\n",
        "        outputs=[image_input, product, pred_class, price, cart_box, total_items_box, total_box, state_cart, state_total],\n",
        "        show_progress=\"full\"\n",
        "    )\n",
        "    remove_btn.click(\n",
        "        remove_last,\n",
        "        inputs=[state_cart, state_total],\n",
        "        outputs=[image_input, product, pred_class, price, cart_box, total_items_box, total_box, state_cart, state_total]\n",
        "    )\n",
        "\n",
        "demo.launch(share=True)"
      ],
      "metadata": {
        "colab": {
          "base_uri": "https://localhost:8080/",
          "height": 632
        },
        "id": "h_34vOEmDnXu",
        "outputId": "0238154b-2534-4c24-af3a-b7210cc0311a"
      },
      "execution_count": 12,
      "outputs": [
        {
          "output_type": "stream",
          "name": "stderr",
          "text": [
            "WARNING:absl:Compiled the loaded model, but the compiled metrics have yet to be built. `model.compile_metrics` will be empty until you train or evaluate the model.\n"
          ]
        },
        {
          "output_type": "stream",
          "name": "stdout",
          "text": [
            "Colab notebook detected. To show errors in colab notebook, set debug=True in launch()\n",
            "* Running on public URL: https://930423fa0c14893f8f.gradio.live\n",
            "\n",
            "This share link expires in 1 week. For free permanent hosting and GPU upgrades, run `gradio deploy` from the terminal in the working directory to deploy to Hugging Face Spaces (https://huggingface.co/spaces)\n"
          ]
        },
        {
          "output_type": "display_data",
          "data": {
            "text/plain": [
              "<IPython.core.display.HTML object>"
            ],
            "text/html": [
              "<div><iframe src=\"https://930423fa0c14893f8f.gradio.live\" width=\"100%\" height=\"500\" allow=\"autoplay; camera; microphone; clipboard-read; clipboard-write;\" frameborder=\"0\" allowfullscreen></iframe></div>"
            ]
          },
          "metadata": {}
        },
        {
          "output_type": "execute_result",
          "data": {
            "text/plain": []
          },
          "metadata": {},
          "execution_count": 12
        }
      ]
    }
  ]
}